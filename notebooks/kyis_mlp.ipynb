{
  "nbformat": 4,
  "nbformat_minor": 0,
  "metadata": {
    "colab": {
      "provenance": []
    },
    "kernelspec": {
      "name": "python3",
      "display_name": "Python 3"
    },
    "language_info": {
      "name": "python"
    },
    "widgets": {
      "application/vnd.jupyter.widget-state+json": {
        "2d1552dea0ec4c1f95595cf51b809ea4": {
          "model_module": "@jupyter-widgets/controls",
          "model_name": "HBoxModel",
          "model_module_version": "1.5.0",
          "state": {
            "_dom_classes": [],
            "_model_module": "@jupyter-widgets/controls",
            "_model_module_version": "1.5.0",
            "_model_name": "HBoxModel",
            "_view_count": null,
            "_view_module": "@jupyter-widgets/controls",
            "_view_module_version": "1.5.0",
            "_view_name": "HBoxView",
            "box_style": "",
            "children": [
              "IPY_MODEL_095d908dc1d648dc92e5eb9e7d3afe78",
              "IPY_MODEL_02353a52bebf43659a8eed1919d0a807",
              "IPY_MODEL_66f69e5e3dea48df810d31b48e26beec"
            ],
            "layout": "IPY_MODEL_9d1377fbcc6b4d58bd87553114fc5cc3"
          }
        },
        "095d908dc1d648dc92e5eb9e7d3afe78": {
          "model_module": "@jupyter-widgets/controls",
          "model_name": "HTMLModel",
          "model_module_version": "1.5.0",
          "state": {
            "_dom_classes": [],
            "_model_module": "@jupyter-widgets/controls",
            "_model_module_version": "1.5.0",
            "_model_name": "HTMLModel",
            "_view_count": null,
            "_view_module": "@jupyter-widgets/controls",
            "_view_module_version": "1.5.0",
            "_view_name": "HTMLView",
            "description": "",
            "description_tooltip": null,
            "layout": "IPY_MODEL_6741ae52058948feae7f2968e0621cf5",
            "placeholder": "​",
            "style": "IPY_MODEL_0ab4d9f7e90f46a383eb26e76e19badf",
            "value": "100%"
          }
        },
        "02353a52bebf43659a8eed1919d0a807": {
          "model_module": "@jupyter-widgets/controls",
          "model_name": "FloatProgressModel",
          "model_module_version": "1.5.0",
          "state": {
            "_dom_classes": [],
            "_model_module": "@jupyter-widgets/controls",
            "_model_module_version": "1.5.0",
            "_model_name": "FloatProgressModel",
            "_view_count": null,
            "_view_module": "@jupyter-widgets/controls",
            "_view_module_version": "1.5.0",
            "_view_name": "ProgressView",
            "bar_style": "success",
            "description": "",
            "description_tooltip": null,
            "layout": "IPY_MODEL_0bde761bd5de46c385a5630c3ed8612f",
            "max": 10,
            "min": 0,
            "orientation": "horizontal",
            "style": "IPY_MODEL_db2fb577bc1741daaf321c68befe9059",
            "value": 10
          }
        },
        "66f69e5e3dea48df810d31b48e26beec": {
          "model_module": "@jupyter-widgets/controls",
          "model_name": "HTMLModel",
          "model_module_version": "1.5.0",
          "state": {
            "_dom_classes": [],
            "_model_module": "@jupyter-widgets/controls",
            "_model_module_version": "1.5.0",
            "_model_name": "HTMLModel",
            "_view_count": null,
            "_view_module": "@jupyter-widgets/controls",
            "_view_module_version": "1.5.0",
            "_view_name": "HTMLView",
            "description": "",
            "description_tooltip": null,
            "layout": "IPY_MODEL_f7936d4073974e809b1b17797cd2de2c",
            "placeholder": "​",
            "style": "IPY_MODEL_8288f9d6b5fd451f89d8b8a7dd2bea51",
            "value": " 10/10 [01:23&lt;00:00,  8.35s/it]"
          }
        },
        "9d1377fbcc6b4d58bd87553114fc5cc3": {
          "model_module": "@jupyter-widgets/base",
          "model_name": "LayoutModel",
          "model_module_version": "1.2.0",
          "state": {
            "_model_module": "@jupyter-widgets/base",
            "_model_module_version": "1.2.0",
            "_model_name": "LayoutModel",
            "_view_count": null,
            "_view_module": "@jupyter-widgets/base",
            "_view_module_version": "1.2.0",
            "_view_name": "LayoutView",
            "align_content": null,
            "align_items": null,
            "align_self": null,
            "border": null,
            "bottom": null,
            "display": null,
            "flex": null,
            "flex_flow": null,
            "grid_area": null,
            "grid_auto_columns": null,
            "grid_auto_flow": null,
            "grid_auto_rows": null,
            "grid_column": null,
            "grid_gap": null,
            "grid_row": null,
            "grid_template_areas": null,
            "grid_template_columns": null,
            "grid_template_rows": null,
            "height": null,
            "justify_content": null,
            "justify_items": null,
            "left": null,
            "margin": null,
            "max_height": null,
            "max_width": null,
            "min_height": null,
            "min_width": null,
            "object_fit": null,
            "object_position": null,
            "order": null,
            "overflow": null,
            "overflow_x": null,
            "overflow_y": null,
            "padding": null,
            "right": null,
            "top": null,
            "visibility": null,
            "width": null
          }
        },
        "6741ae52058948feae7f2968e0621cf5": {
          "model_module": "@jupyter-widgets/base",
          "model_name": "LayoutModel",
          "model_module_version": "1.2.0",
          "state": {
            "_model_module": "@jupyter-widgets/base",
            "_model_module_version": "1.2.0",
            "_model_name": "LayoutModel",
            "_view_count": null,
            "_view_module": "@jupyter-widgets/base",
            "_view_module_version": "1.2.0",
            "_view_name": "LayoutView",
            "align_content": null,
            "align_items": null,
            "align_self": null,
            "border": null,
            "bottom": null,
            "display": null,
            "flex": null,
            "flex_flow": null,
            "grid_area": null,
            "grid_auto_columns": null,
            "grid_auto_flow": null,
            "grid_auto_rows": null,
            "grid_column": null,
            "grid_gap": null,
            "grid_row": null,
            "grid_template_areas": null,
            "grid_template_columns": null,
            "grid_template_rows": null,
            "height": null,
            "justify_content": null,
            "justify_items": null,
            "left": null,
            "margin": null,
            "max_height": null,
            "max_width": null,
            "min_height": null,
            "min_width": null,
            "object_fit": null,
            "object_position": null,
            "order": null,
            "overflow": null,
            "overflow_x": null,
            "overflow_y": null,
            "padding": null,
            "right": null,
            "top": null,
            "visibility": null,
            "width": null
          }
        },
        "0ab4d9f7e90f46a383eb26e76e19badf": {
          "model_module": "@jupyter-widgets/controls",
          "model_name": "DescriptionStyleModel",
          "model_module_version": "1.5.0",
          "state": {
            "_model_module": "@jupyter-widgets/controls",
            "_model_module_version": "1.5.0",
            "_model_name": "DescriptionStyleModel",
            "_view_count": null,
            "_view_module": "@jupyter-widgets/base",
            "_view_module_version": "1.2.0",
            "_view_name": "StyleView",
            "description_width": ""
          }
        },
        "0bde761bd5de46c385a5630c3ed8612f": {
          "model_module": "@jupyter-widgets/base",
          "model_name": "LayoutModel",
          "model_module_version": "1.2.0",
          "state": {
            "_model_module": "@jupyter-widgets/base",
            "_model_module_version": "1.2.0",
            "_model_name": "LayoutModel",
            "_view_count": null,
            "_view_module": "@jupyter-widgets/base",
            "_view_module_version": "1.2.0",
            "_view_name": "LayoutView",
            "align_content": null,
            "align_items": null,
            "align_self": null,
            "border": null,
            "bottom": null,
            "display": null,
            "flex": null,
            "flex_flow": null,
            "grid_area": null,
            "grid_auto_columns": null,
            "grid_auto_flow": null,
            "grid_auto_rows": null,
            "grid_column": null,
            "grid_gap": null,
            "grid_row": null,
            "grid_template_areas": null,
            "grid_template_columns": null,
            "grid_template_rows": null,
            "height": null,
            "justify_content": null,
            "justify_items": null,
            "left": null,
            "margin": null,
            "max_height": null,
            "max_width": null,
            "min_height": null,
            "min_width": null,
            "object_fit": null,
            "object_position": null,
            "order": null,
            "overflow": null,
            "overflow_x": null,
            "overflow_y": null,
            "padding": null,
            "right": null,
            "top": null,
            "visibility": null,
            "width": null
          }
        },
        "db2fb577bc1741daaf321c68befe9059": {
          "model_module": "@jupyter-widgets/controls",
          "model_name": "ProgressStyleModel",
          "model_module_version": "1.5.0",
          "state": {
            "_model_module": "@jupyter-widgets/controls",
            "_model_module_version": "1.5.0",
            "_model_name": "ProgressStyleModel",
            "_view_count": null,
            "_view_module": "@jupyter-widgets/base",
            "_view_module_version": "1.2.0",
            "_view_name": "StyleView",
            "bar_color": null,
            "description_width": ""
          }
        },
        "f7936d4073974e809b1b17797cd2de2c": {
          "model_module": "@jupyter-widgets/base",
          "model_name": "LayoutModel",
          "model_module_version": "1.2.0",
          "state": {
            "_model_module": "@jupyter-widgets/base",
            "_model_module_version": "1.2.0",
            "_model_name": "LayoutModel",
            "_view_count": null,
            "_view_module": "@jupyter-widgets/base",
            "_view_module_version": "1.2.0",
            "_view_name": "LayoutView",
            "align_content": null,
            "align_items": null,
            "align_self": null,
            "border": null,
            "bottom": null,
            "display": null,
            "flex": null,
            "flex_flow": null,
            "grid_area": null,
            "grid_auto_columns": null,
            "grid_auto_flow": null,
            "grid_auto_rows": null,
            "grid_column": null,
            "grid_gap": null,
            "grid_row": null,
            "grid_template_areas": null,
            "grid_template_columns": null,
            "grid_template_rows": null,
            "height": null,
            "justify_content": null,
            "justify_items": null,
            "left": null,
            "margin": null,
            "max_height": null,
            "max_width": null,
            "min_height": null,
            "min_width": null,
            "object_fit": null,
            "object_position": null,
            "order": null,
            "overflow": null,
            "overflow_x": null,
            "overflow_y": null,
            "padding": null,
            "right": null,
            "top": null,
            "visibility": null,
            "width": null
          }
        },
        "8288f9d6b5fd451f89d8b8a7dd2bea51": {
          "model_module": "@jupyter-widgets/controls",
          "model_name": "DescriptionStyleModel",
          "model_module_version": "1.5.0",
          "state": {
            "_model_module": "@jupyter-widgets/controls",
            "_model_module_version": "1.5.0",
            "_model_name": "DescriptionStyleModel",
            "_view_count": null,
            "_view_module": "@jupyter-widgets/base",
            "_view_module_version": "1.2.0",
            "_view_name": "StyleView",
            "description_width": ""
          }
        }
      }
    }
  },
  "cells": [
    {
      "cell_type": "code",
      "source": [
        "# Email Spam Detection with MLP from Scratch\n",
        "# ======================================\n",
        "# This notebook builds a spam detection model using a Multi-Layer Perceptron (MLP)\n",
        "# approach rather than transformers.\n",
        "\n",
        "import pandas as pd\n",
        "import numpy as np\n",
        "import matplotlib.pyplot as plt\n",
        "import seaborn as sns\n",
        "from sklearn.model_selection import train_test_split\n",
        "from sklearn.metrics import classification_report, confusion_matrix, accuracy_score\n",
        "from sklearn.feature_extraction.text import TfidfVectorizer\n",
        "from sklearn.preprocessing import StandardScaler\n",
        "\n",
        "# For neural network\n",
        "import torch\n",
        "import torch.nn as nn\n",
        "import torch.optim as optim\n",
        "from torch.utils.data import DataLoader, TensorDataset\n",
        "\n",
        "# 1. Download and extract the dataset\n",
        "!wget -nc https://github.com/MWiechmann/enron_spam_data/raw/master/enron_spam_data.zip\n",
        "!unzip -o enron_spam_data.zip"
      ],
      "metadata": {
        "colab": {
          "base_uri": "https://localhost:8080/"
        },
        "id": "nHjEhDlFSbgJ",
        "outputId": "4b237251-f40f-4314-fc7d-4fd910d41c53"
      },
      "execution_count": null,
      "outputs": [
        {
          "output_type": "stream",
          "name": "stdout",
          "text": [
            "--2025-03-08 01:10:38--  https://github.com/MWiechmann/enron_spam_data/raw/master/enron_spam_data.zip\n",
            "Resolving github.com (github.com)... 140.82.112.4\n",
            "Connecting to github.com (github.com)|140.82.112.4|:443... connected.\n",
            "HTTP request sent, awaiting response... 302 Found\n",
            "Location: https://raw.githubusercontent.com/MWiechmann/enron_spam_data/master/enron_spam_data.zip [following]\n",
            "--2025-03-08 01:10:39--  https://raw.githubusercontent.com/MWiechmann/enron_spam_data/master/enron_spam_data.zip\n",
            "Resolving raw.githubusercontent.com (raw.githubusercontent.com)... 185.199.108.133, 185.199.109.133, 185.199.110.133, ...\n",
            "Connecting to raw.githubusercontent.com (raw.githubusercontent.com)|185.199.108.133|:443... connected.\n",
            "HTTP request sent, awaiting response... 200 OK\n",
            "Length: 15642124 (15M) [application/zip]\n",
            "Saving to: ‘enron_spam_data.zip’\n",
            "\n",
            "enron_spam_data.zip 100%[===================>]  14.92M  --.-KB/s    in 0.1s    \n",
            "\n",
            "2025-03-08 01:10:39 (120 MB/s) - ‘enron_spam_data.zip’ saved [15642124/15642124]\n",
            "\n",
            "Archive:  enron_spam_data.zip\n",
            "  inflating: enron_spam_data.csv     \n"
          ]
        }
      ]
    },
    {
      "cell_type": "code",
      "source": [
        "# 2. Load the CSV file\n",
        "df = pd.read_csv('enron_spam_data.csv')"
      ],
      "metadata": {
        "id": "hcVPGDjJSeZH"
      },
      "execution_count": null,
      "outputs": []
    },
    {
      "cell_type": "code",
      "source": [
        "# 3. Display dataset information\n",
        "print(f\"Total emails: {len(df)}\")\n",
        "print(f\"Column names: {df.columns.tolist()}\")\n",
        "\n",
        "# Print the first few rows to understand the data structure\n",
        "print(\"\\nFirst few rows of the dataset:\")\n",
        "print(df.head(2))\n"
      ],
      "metadata": {
        "colab": {
          "base_uri": "https://localhost:8080/"
        },
        "id": "R0zZK5knSgsy",
        "outputId": "ad6a0f62-e2e7-41eb-d1ad-50afeeed3345"
      },
      "execution_count": null,
      "outputs": [
        {
          "output_type": "stream",
          "name": "stdout",
          "text": [
            "Total emails: 33716\n",
            "Column names: ['Message ID', 'Subject', 'Message', 'Spam/Ham', 'Date']\n",
            "\n",
            "First few rows of the dataset:\n",
            "   Message ID                       Subject  \\\n",
            "0           0  christmas tree farm pictures   \n",
            "1           1      vastar resources , inc .   \n",
            "\n",
            "                                             Message Spam/Ham        Date  \n",
            "0                                                NaN      ham  1999-12-10  \n",
            "1  gary , production from the high island larger ...      ham  1999-12-13  \n"
          ]
        }
      ]
    },
    {
      "cell_type": "code",
      "source": [
        "# 4. Check for label column and convert to binary\n",
        "if 'Spam/Ham' in df.columns:\n",
        "    # Convert Spam/Ham labels to binary (1 for spam, 0 for ham)\n",
        "    df['label'] = df['Spam/Ham'].apply(lambda x: 1 if x.lower() == 'spam' else 0)\n",
        "else:\n",
        "    # Look for other potential label columns\n",
        "    potential_label_cols = [col for col in df.columns if any(keyword in col.lower() for keyword in ['spam', 'ham', 'label', 'class'])]\n",
        "    if potential_label_cols:\n",
        "        print(f\"Potential label columns found: {potential_label_cols}\")\n",
        "        # Use the first potential column\n",
        "        df['label'] = df[potential_label_cols[0]].apply(lambda x: 1 if str(x).lower() == 'spam' else 0)\n",
        "    else:\n",
        "        raise ValueError(\"Couldn't identify label column in the dataset\")"
      ],
      "metadata": {
        "id": "adfLjzKXSkzg"
      },
      "execution_count": null,
      "outputs": []
    },
    {
      "cell_type": "code",
      "source": [
        "# 5. Combine Subject and Message for better feature representation\n",
        "df['text'] = \"Subject: \" + df['Subject'].fillna('') + \" \" + df['Message'].fillna('')\n",
        "\n",
        "# Print dataset distribution\n",
        "print(f\"Spam emails: {sum(df['label'])}\")\n",
        "print(f\"Ham emails: {len(df) - sum(df['label'])}\")\n",
        "print(f\"Spam ratio: {sum(df['label'])/len(df):.2f}\")\n",
        "\n",
        "# Check if text column was correctly assigned\n",
        "print(\"\\nSample text column entries:\")\n",
        "print(df['text'].head(2).tolist())\n",
        "\n",
        "# Display sample emails\n",
        "print(\"\\nSample SPAM email:\")\n",
        "spam_sample = df[df['label'] == 1]['text'].iloc[0]\n",
        "print(spam_sample[:500] + \"...\" if len(str(spam_sample)) > 500 else spam_sample)\n",
        "\n",
        "print(\"\\nSample HAM email:\")\n",
        "ham_sample = df[df['label'] == 0]['text'].iloc[0]\n",
        "print(ham_sample[:500] + \"...\" if len(str(ham_sample)) > 500 else ham_sample)"
      ],
      "metadata": {
        "colab": {
          "base_uri": "https://localhost:8080/"
        },
        "id": "njPY3hN6SnZX",
        "outputId": "506d7449-b691-483f-e4e9-f936197c249e"
      },
      "execution_count": null,
      "outputs": [
        {
          "output_type": "stream",
          "name": "stdout",
          "text": [
            "Spam emails: 17171\n",
            "Ham emails: 16545\n",
            "Spam ratio: 0.51\n",
            "\n",
            "Sample text column entries:\n",
            "['Subject: christmas tree farm pictures ', 'Subject: vastar resources , inc . gary , production from the high island larger block a - 1 # 2 commenced on\\nsaturday at 2 : 00 p . m . at about 6 , 500 gross . carlos expects between 9 , 500 and\\n10 , 000 gross for tomorrow . vastar owns 68 % of the gross production .\\ngeorge x 3 - 6992\\n- - - - - - - - - - - - - - - - - - - - - - forwarded by george weissman / hou / ect on 12 / 13 / 99 10 : 16\\nam - - - - - - - - - - - - - - - - - - - - - - - - - - -\\ndaren j farmer\\n12 / 10 / 99 10 : 38 am\\nto : carlos j rodriguez / hou / ect @ ect\\ncc : george weissman / hou / ect @ ect , melissa graves / hou / ect @ ect\\nsubject : vastar resources , inc .\\ncarlos ,\\nplease call linda and get everything set up .\\ni \\' m going to estimate 4 , 500 coming up tomorrow , with a 2 , 000 increase each\\nfollowing day based on my conversations with bill fischer at bmar .\\nd .\\n- - - - - - - - - - - - - - - - - - - - - - forwarded by daren j farmer / hou / ect on 12 / 10 / 99 10 : 34\\nam - - - - - - - - - - - - - - - - - - - - - - - - - - -\\nenron north america corp .\\nfrom : george weissman 12 / 10 / 99 10 : 00 am\\nto : daren j farmer / hou / ect @ ect\\ncc : gary bryan / hou / ect @ ect , melissa graves / hou / ect @ ect\\nsubject : vastar resources , inc .\\ndarren ,\\nthe attached appears to be a nomination from vastar resources , inc . for the\\nhigh island larger block a - 1 # 2 ( previously , erroneously referred to as the\\n# 1 well ) . vastar now expects the well to commence production sometime\\ntomorrow . i told linda harris that we \\' d get her a telephone number in gas\\ncontrol so she can provide notification of the turn - on tomorrow . linda \\' s\\nnumbers , for the record , are 281 . 584 . 3359 voice and 713 . 312 . 1689 fax .\\nwould you please see that someone contacts linda and advises her how to\\nsubmit future nominations via e - mail , fax or voice ? thanks .\\ngeorge x 3 - 6992\\n- - - - - - - - - - - - - - - - - - - - - - forwarded by george weissman / hou / ect on 12 / 10 / 99 09 : 44\\nam - - - - - - - - - - - - - - - - - - - - - - - - - - -\\n\" linda harris \" on 12 / 10 / 99 09 : 38 : 43 am\\nto : george weissman / hou / ect @ ect\\ncc :\\nsubject : hi a - 1 # 2\\neffective 12 - 11 - 99\\n| - - - - - - - - + - - - - - - - - - - + - - - - - - - - - - - |\\n| | | |\\n| mscf / d | min ftp | time |\\n| | | |\\n| - - - - - - - - + - - - - - - - - - - + - - - - - - - - - - - |\\n| | | |\\n| 4 , 500 | 9 , 925 | 24 hours |\\n| | | |\\n| - - - - - - - - + - - - - - - - - - - + - - - - - - - - - - - |\\n| | | |\\n| 6 , 000 | 9 , 908 | 24 hours |\\n| | | |\\n| - - - - - - - - + - - - - - - - - - - + - - - - - - - - - - - |\\n| | | |\\n| 8 , 000 | 9 , 878 | 24 hours |\\n| | | |\\n| - - - - - - - - + - - - - - - - - - - + - - - - - - - - - - - |\\n| | | |\\n| 10 , 000 | 9 , 840 | 24 hours |\\n| | | |\\n| - - - - - - - - + - - - - - - - - - - + - - - - - - - - - - - |\\n| | | |\\n| 12 , 000 | 9 , 793 | 24 hours |\\n| | | |\\n| - - - - - - - - + - - - - - - - - - - + - - - - - - - - - - - |\\n| | | |\\n| 14 , 000 | 9 , 738 | 24 hours |\\n| | | |\\n| - - - - - - - - + - - - - - - - - - - + - - - - - - - - - - - |\\n| | | |\\n| 16 , 000 | 9 , 674 | 24 hours |\\n| | | |\\n| - - - - - - - - + - - - - - - - - - - + - - - - - - - - - - - |\\n| | | |\\n| 18 , 000 | 9 , 602 | 24 hours |\\n| | | |\\n| - - - - - - - - + - - - - - - - - - - + - - - - - - - - - - - |\\n| | | |\\n| 20 , 000 | 9 , 521 | 24 hours |\\n| | | |\\n| - - - - - - - - + - - - - - - - - - - + - - - - - - - - - - - |\\n| | | |\\n| 22 , 000 | 9 , 431 | 24 hours |\\n| | | |\\n| - - - - - - - - + - - - - - - - - - - + - - - - - - - - - - - |\\n| | | |\\n| 24 , 000 | 9 , 332 | 24 hours |\\n| | | |\\n| - - - - - - - - + - - - - - - - - - - + - - - - - - - - - - - |\\n| | | |\\n| 26 , 000 | 9 , 224 | 24 hours |\\n| | | |\\n| - - - - - - - - + - - - - - - - - - - + - - - - - - - - - - - |\\n| | | |\\n| 28 , 000 | 9 , 108 | 24 hours |\\n| | | |\\n| - - - - - - - - + - - - - - - - - - - + - - - - - - - - - - - |\\n| | | |\\n| 30 , 000 | 8 , 982 | 24 hours |\\n| | | |\\n| - - - - - - - - + - - - - - - - - - - + - - - - - - - - - - - |\\n| | | |\\n| 32 , 000 | 8 , 847 | 24 hours |\\n| | | |\\n| - - - - - - - - + - - - - - - - - - - + - - - - - - - - - - - |\\n| | | |\\n| 34 , 000 | 8 , 703 | 24 hours |\\n| | | |\\n| - - - - - - - - + - - - - - - - - - - + - - - - - - - - - - - |\\n| | | |\\n| 36 , 000 | 8 , 549 | 24 hours |\\n| | | |\\n| - - - - - - - - + - - - - - - - - - - + - - - - - - - - - - - |']\n",
            "\n",
            "Sample SPAM email:\n",
            "Subject: dobmeos with hgh my energy level has gone up ! stukm introducing\n",
            "doctor - formulated\n",
            "hgh\n",
            "human growth hormone - also called hgh\n",
            "is referred to in medical science as the master hormone . it is very plentiful\n",
            "when we are young , but near the age of twenty - one our bodies begin to produce\n",
            "less of it . by the time we are forty nearly everyone is deficient in hgh ,\n",
            "and at eighty our production has normally diminished at least 90 - 95 % .\n",
            "advantages of hgh :\n",
            "- increased muscle strength\n",
            "- los...\n",
            "\n",
            "Sample HAM email:\n",
            "Subject: christmas tree farm pictures \n"
          ]
        }
      ]
    },
    {
      "cell_type": "code",
      "source": [
        "# 6. Preprocess emails - basic cleaning\n",
        "def preprocess_email(text):\n",
        "    if pd.isna(text):\n",
        "        return \"\"\n",
        "\n",
        "    # Convert to string if not already\n",
        "    text = str(text)\n",
        "\n",
        "    # Basic cleaning (can be expanded)\n",
        "    text = text.lower()\n",
        "\n",
        "    return text\n",
        "\n",
        "# Apply preprocessing\n",
        "df['text'] = df['text'].apply(preprocess_email)\n",
        "\n",
        "# Remove any rows with empty text\n",
        "df = df[df['text'].str.strip() != \"\"]"
      ],
      "metadata": {
        "id": "eRKSLooESp2F"
      },
      "execution_count": null,
      "outputs": []
    },
    {
      "cell_type": "code",
      "source": [
        "# 7. Split data\n",
        "train_df, test_df = train_test_split(df, test_size=0.2, random_state=42, stratify=df['label'])\n",
        "train_df, val_df = train_test_split(train_df, test_size=0.1, random_state=42, stratify=train_df['label'])\n",
        "\n",
        "print(f\"Training set size: {len(train_df)}\")\n",
        "print(f\"Validation set size: {len(val_df)}\")\n",
        "print(f\"Test set size: {len(test_df)}\")"
      ],
      "metadata": {
        "colab": {
          "base_uri": "https://localhost:8080/"
        },
        "id": "tVo7QfCiStLQ",
        "outputId": "b9e0f922-9ca0-4c3f-ce67-7b4ea92495ab"
      },
      "execution_count": null,
      "outputs": [
        {
          "output_type": "stream",
          "name": "stdout",
          "text": [
            "Training set size: 24274\n",
            "Validation set size: 2698\n",
            "Test set size: 6744\n"
          ]
        }
      ]
    },
    {
      "cell_type": "code",
      "source": [
        "# 8. Feature extraction with TF-IDF\n",
        "# This converts text into numerical features based on word importance\n",
        "print(\"\\nExtracting features with TF-IDF...\")\n",
        "tfidf_vectorizer = TfidfVectorizer(max_features=5000,  # Limit features to prevent memory issues\n",
        "                                   min_df=5,           # Ignore terms that appear in less than 5 documents\n",
        "                                   max_df=0.7,         # Ignore terms that appear in more than 70% of documents\n",
        "                                   ngram_range=(1, 2)) # Use both unigrams and bigrams\n",
        "\n",
        "# Fit on training data only\n",
        "X_train_tfidf = tfidf_vectorizer.fit_transform(train_df['text'])\n",
        "X_val_tfidf = tfidf_vectorizer.transform(val_df['text'])\n",
        "X_test_tfidf = tfidf_vectorizer.transform(test_df['text'])\n",
        "\n",
        "print(f\"Feature vector shape: {X_train_tfidf.shape}\")\n",
        "print(f\"Number of features: {X_train_tfidf.shape[1]}\")\n",
        "\n",
        "# Optional: Normalize features for better training\n",
        "scaler = StandardScaler(with_mean=False)  # with_mean=False because TF-IDF is sparse\n",
        "X_train_scaled = scaler.fit_transform(X_train_tfidf)\n",
        "X_val_scaled = scaler.transform(X_val_tfidf)\n",
        "X_test_scaled = scaler.transform(X_test_tfidf)"
      ],
      "metadata": {
        "colab": {
          "base_uri": "https://localhost:8080/"
        },
        "id": "kxU30QHSSv9X",
        "outputId": "98a58482-e26f-4a12-9f72-0d85d08eee10"
      },
      "execution_count": null,
      "outputs": [
        {
          "output_type": "stream",
          "name": "stdout",
          "text": [
            "\n",
            "Extracting features with TF-IDF...\n",
            "Feature vector shape: (24274, 5000)\n",
            "Number of features: 5000\n"
          ]
        }
      ]
    },
    {
      "cell_type": "code",
      "source": [
        "# 9. Convert to PyTorch tensors\n",
        "X_train_tensor = torch.FloatTensor(X_train_scaled.toarray())\n",
        "X_val_tensor = torch.FloatTensor(X_val_scaled.toarray())\n",
        "X_test_tensor = torch.FloatTensor(X_test_scaled.toarray())\n",
        "\n",
        "y_train_tensor = torch.LongTensor(train_df['label'].values)\n",
        "y_val_tensor = torch.LongTensor(val_df['label'].values)\n",
        "y_test_tensor = torch.LongTensor(test_df['label'].values)"
      ],
      "metadata": {
        "id": "wJ309xQNSyyM"
      },
      "execution_count": null,
      "outputs": []
    },
    {
      "cell_type": "code",
      "source": [
        "# 10. Create data loaders\n",
        "batch_size = 64\n",
        "train_dataset = TensorDataset(X_train_tensor, y_train_tensor)\n",
        "val_dataset = TensorDataset(X_val_tensor, y_val_tensor)\n",
        "test_dataset = TensorDataset(X_test_tensor, y_test_tensor)\n",
        "\n",
        "train_loader = DataLoader(train_dataset, batch_size=batch_size, shuffle=True)\n",
        "val_loader = DataLoader(val_dataset, batch_size=batch_size)\n",
        "test_loader = DataLoader(test_dataset, batch_size=batch_size)"
      ],
      "metadata": {
        "id": "RUpsorg0S0wA"
      },
      "execution_count": null,
      "outputs": []
    },
    {
      "cell_type": "code",
      "source": [
        "# 11. Define the MLP model\n",
        "class SpamMLP(nn.Module):\n",
        "    def __init__(self, input_dim, hidden_dims=[512, 128], output_dim=2, dropout_rate=0.5):\n",
        "        super(SpamMLP, self).__init__()\n",
        "\n",
        "        # Build layers dynamically based on hidden_dims\n",
        "        layers = []\n",
        "\n",
        "        # Input layer\n",
        "        layers.append(nn.Linear(input_dim, hidden_dims[0]))\n",
        "        layers.append(nn.ReLU())\n",
        "        layers.append(nn.Dropout(dropout_rate))\n",
        "\n",
        "        # Hidden layers\n",
        "        for i in range(len(hidden_dims)-1):\n",
        "            layers.append(nn.Linear(hidden_dims[i], hidden_dims[i+1]))\n",
        "            layers.append(nn.ReLU())\n",
        "            layers.append(nn.Dropout(dropout_rate))\n",
        "\n",
        "        # Output layer\n",
        "        layers.append(nn.Linear(hidden_dims[-1], output_dim))\n",
        "\n",
        "        # Combine all layers\n",
        "        self.model = nn.Sequential(*layers)\n",
        "\n",
        "    def forward(self, x):\n",
        "        return self.model(x)"
      ],
      "metadata": {
        "id": "Phcd4C85S26c"
      },
      "execution_count": null,
      "outputs": []
    },
    {
      "cell_type": "code",
      "source": [
        "# 12. Initialize model and training parameters\n",
        "input_dim = X_train_tensor.shape[1]\n",
        "model = SpamMLP(input_dim=input_dim)\n",
        "print(model)"
      ],
      "metadata": {
        "colab": {
          "base_uri": "https://localhost:8080/"
        },
        "id": "DKt0Nr0QS5Q-",
        "outputId": "acd19b8a-1f97-456c-b01f-de457dce23a8"
      },
      "execution_count": null,
      "outputs": [
        {
          "output_type": "stream",
          "name": "stdout",
          "text": [
            "SpamMLP(\n",
            "  (model): Sequential(\n",
            "    (0): Linear(in_features=5000, out_features=512, bias=True)\n",
            "    (1): ReLU()\n",
            "    (2): Dropout(p=0.5, inplace=False)\n",
            "    (3): Linear(in_features=512, out_features=128, bias=True)\n",
            "    (4): ReLU()\n",
            "    (5): Dropout(p=0.5, inplace=False)\n",
            "    (6): Linear(in_features=128, out_features=2, bias=True)\n",
            "  )\n",
            ")\n"
          ]
        }
      ]
    },
    {
      "cell_type": "code",
      "source": [
        "# 13. Define loss function and optimizer\n",
        "criterion = nn.CrossEntropyLoss()\n",
        "optimizer = optim.Adam(model.parameters(), lr=0.001)"
      ],
      "metadata": {
        "id": "l5pfGkUrS8e8"
      },
      "execution_count": null,
      "outputs": []
    },
    {
      "cell_type": "code",
      "source": [
        "# 14. Training function\n",
        "def train_epoch(model, loader, criterion, optimizer, device=\"cpu\"):\n",
        "    model.train()\n",
        "    running_loss = 0.0\n",
        "    correct = 0\n",
        "    total = 0\n",
        "\n",
        "    for inputs, labels in loader:\n",
        "        inputs, labels = inputs.to(device), labels.to(device)\n",
        "\n",
        "        # Zero the parameter gradients\n",
        "        optimizer.zero_grad()\n",
        "\n",
        "        # Forward pass\n",
        "        outputs = model(inputs)\n",
        "        loss = criterion(outputs, labels)\n",
        "\n",
        "        # Backward pass and optimize\n",
        "        loss.backward()\n",
        "        optimizer.step()\n",
        "\n",
        "        # Statistics\n",
        "        running_loss += loss.item() * inputs.size(0)\n",
        "        _, predicted = torch.max(outputs, 1)\n",
        "        total += labels.size(0)\n",
        "        correct += (predicted == labels).sum().item()\n",
        "\n",
        "    epoch_loss = running_loss / total\n",
        "    epoch_acc = correct / total\n",
        "    return epoch_loss, epoch_acc"
      ],
      "metadata": {
        "id": "yHocKYOvS-_l"
      },
      "execution_count": null,
      "outputs": []
    },
    {
      "cell_type": "code",
      "source": [
        "# 15. Evaluation function\n",
        "def evaluate(model, loader, criterion, device=\"cpu\"):\n",
        "    model.eval()\n",
        "    running_loss = 0.0\n",
        "    correct = 0\n",
        "    total = 0\n",
        "\n",
        "    with torch.no_grad():\n",
        "        for inputs, labels in loader:\n",
        "            inputs, labels = inputs.to(device), labels.to(device)\n",
        "\n",
        "            # Forward pass\n",
        "            outputs = model(inputs)\n",
        "            loss = criterion(outputs, labels)\n",
        "\n",
        "            # Statistics\n",
        "            running_loss += loss.item() * inputs.size(0)\n",
        "            _, predicted = torch.max(outputs, 1)\n",
        "            total += labels.size(0)\n",
        "            correct += (predicted == labels).sum().item()\n",
        "\n",
        "    epoch_loss = running_loss / total\n",
        "    epoch_acc = correct / total\n",
        "    return epoch_loss, epoch_acc"
      ],
      "metadata": {
        "id": "CMAa269xTBdk"
      },
      "execution_count": null,
      "outputs": []
    },
    {
      "cell_type": "code",
      "source": [
        "# 16. Training loop\n",
        "device = torch.device(\"cuda\" if torch.cuda.is_available() else \"cpu\")\n",
        "print(f\"Using device: {device}\")\n",
        "model.to(device)\n",
        "\n",
        "num_epochs = 10\n",
        "train_losses = []\n",
        "val_losses = []\n",
        "train_accs = []\n",
        "val_accs = []\n",
        "\n",
        "# Create a nice-looking progress bar\n",
        "from tqdm.notebook import tqdm\n",
        "\n",
        "print(\"Starting training...\")\n",
        "for epoch in tqdm(range(num_epochs)):\n",
        "    # Train\n",
        "    train_loss, train_acc = train_epoch(model, train_loader, criterion, optimizer, device)\n",
        "    train_losses.append(train_loss)\n",
        "    train_accs.append(train_acc)\n",
        "\n",
        "    # Evaluate\n",
        "    val_loss, val_acc = evaluate(model, val_loader, criterion, device)\n",
        "    val_losses.append(val_loss)\n",
        "    val_accs.append(val_acc)\n",
        "\n",
        "    print(f\"Epoch {epoch+1}/{num_epochs}, Train Loss: {train_loss:.4f}, Train Acc: {train_acc:.4f}, Val Loss: {val_loss:.4f}, Val Acc: {val_acc:.4f}\")"
      ],
      "metadata": {
        "colab": {
          "base_uri": "https://localhost:8080/",
          "height": 257,
          "referenced_widgets": [
            "2d1552dea0ec4c1f95595cf51b809ea4",
            "095d908dc1d648dc92e5eb9e7d3afe78",
            "02353a52bebf43659a8eed1919d0a807",
            "66f69e5e3dea48df810d31b48e26beec",
            "9d1377fbcc6b4d58bd87553114fc5cc3",
            "6741ae52058948feae7f2968e0621cf5",
            "0ab4d9f7e90f46a383eb26e76e19badf",
            "0bde761bd5de46c385a5630c3ed8612f",
            "db2fb577bc1741daaf321c68befe9059",
            "f7936d4073974e809b1b17797cd2de2c",
            "8288f9d6b5fd451f89d8b8a7dd2bea51"
          ]
        },
        "id": "LNgc3jbCTEVN",
        "outputId": "917162ea-d0d4-4ebb-d219-19d991612cd3"
      },
      "execution_count": null,
      "outputs": [
        {
          "output_type": "stream",
          "name": "stdout",
          "text": [
            "Using device: cpu\n",
            "Starting training...\n"
          ]
        },
        {
          "output_type": "display_data",
          "data": {
            "text/plain": [
              "  0%|          | 0/10 [00:00<?, ?it/s]"
            ],
            "application/vnd.jupyter.widget-view+json": {
              "version_major": 2,
              "version_minor": 0,
              "model_id": "2d1552dea0ec4c1f95595cf51b809ea4"
            }
          },
          "metadata": {}
        },
        {
          "output_type": "stream",
          "name": "stdout",
          "text": [
            "Epoch 1/10, Train Loss: 0.0803, Train Acc: 0.9734, Val Loss: 0.0441, Val Acc: 0.9826\n",
            "Epoch 2/10, Train Loss: 0.0211, Train Acc: 0.9934, Val Loss: 0.0541, Val Acc: 0.9818\n",
            "Epoch 3/10, Train Loss: 0.0076, Train Acc: 0.9975, Val Loss: 0.0758, Val Acc: 0.9833\n",
            "Epoch 4/10, Train Loss: 0.0036, Train Acc: 0.9989, Val Loss: 0.1072, Val Acc: 0.9826\n",
            "Epoch 5/10, Train Loss: 0.0062, Train Acc: 0.9981, Val Loss: 0.1055, Val Acc: 0.9841\n",
            "Epoch 6/10, Train Loss: 0.0048, Train Acc: 0.9986, Val Loss: 0.0973, Val Acc: 0.9844\n",
            "Epoch 7/10, Train Loss: 0.0017, Train Acc: 0.9993, Val Loss: 0.1144, Val Acc: 0.9848\n",
            "Epoch 8/10, Train Loss: 0.0010, Train Acc: 0.9996, Val Loss: 0.1245, Val Acc: 0.9844\n",
            "Epoch 9/10, Train Loss: 0.0006, Train Acc: 0.9999, Val Loss: 0.1357, Val Acc: 0.9855\n",
            "Epoch 10/10, Train Loss: 0.0005, Train Acc: 0.9999, Val Loss: 0.1425, Val Acc: 0.9863\n"
          ]
        }
      ]
    },
    {
      "cell_type": "code",
      "source": [
        "# 17. Plot training and validation metrics\n",
        "plt.figure(figsize=(12, 5))\n",
        "plt.subplot(1, 2, 1)\n",
        "plt.plot(train_losses, label='Training Loss')\n",
        "plt.plot(val_losses, label='Validation Loss')\n",
        "plt.xlabel('Epochs')\n",
        "plt.ylabel('Loss')\n",
        "plt.legend()\n",
        "plt.title('Loss Curves')\n",
        "\n",
        "plt.subplot(1, 2, 2)\n",
        "plt.plot(train_accs, label='Training Accuracy')\n",
        "plt.plot(val_accs, label='Validation Accuracy')\n",
        "plt.xlabel('Epochs')\n",
        "plt.ylabel('Accuracy')\n",
        "plt.legend()\n",
        "plt.title('Accuracy Curves')\n",
        "plt.tight_layout()\n",
        "plt.show()"
      ],
      "metadata": {
        "colab": {
          "base_uri": "https://localhost:8080/",
          "height": 507
        },
        "id": "9os5zjT_THlc",
        "outputId": "a0292e3e-4d6e-49c3-9924-7f3fcc6c71b6"
      },
      "execution_count": null,
      "outputs": [
        {
          "output_type": "display_data",
          "data": {
            "text/plain": [
              "<Figure size 1200x500 with 2 Axes>"
            ],
            "image/png": "[encoded data removed]"
          },
          "metadata": {}
        }
      ]
    },
    {
      "cell_type": "code",
      "source": [
        "# 18. Evaluate on test set\n",
        "test_loss, test_acc = evaluate(model, test_loader, criterion, device)\n",
        "print(f\"Test Accuracy: {test_acc:.4f}\")"
      ],
      "metadata": {
        "colab": {
          "base_uri": "https://localhost:8080/"
        },
        "id": "2apMtzBATJtd",
        "outputId": "3e5bc153-9f0d-4318-eb93-82d653f14228"
      },
      "execution_count": null,
      "outputs": [
        {
          "output_type": "stream",
          "name": "stdout",
          "text": [
            "Test Accuracy: 0.9862\n"
          ]
        }
      ]
    },
    {
      "cell_type": "code",
      "source": [
        "# 19. Generate detailed metrics\n",
        "all_preds = []\n",
        "all_labels = []\n",
        "\n",
        "with torch.no_grad():\n",
        "    for inputs, labels in test_loader:\n",
        "        inputs, labels = inputs.to(device), labels.to(device)\n",
        "        outputs = model(inputs)\n",
        "        _, preds = torch.max(outputs, 1)\n",
        "        all_preds.extend(preds.cpu().numpy())\n",
        "        all_labels.extend(labels.cpu().numpy())\n",
        "\n",
        "# Print classification report\n",
        "print(\"\\nClassification Report:\")\n",
        "print(classification_report(all_labels, all_preds))\n",
        "\n",
        "# Create confusion matrix\n",
        "cm = confusion_matrix(all_labels, all_preds)\n",
        "plt.figure(figsize=(8, 6))\n",
        "sns.heatmap(cm, annot=True, fmt='d', cmap='Blues',\n",
        "            xticklabels=['Ham', 'Spam'],\n",
        "            yticklabels=['Ham', 'Spam'])\n",
        "plt.xlabel('Predicted')\n",
        "plt.ylabel('True')\n",
        "plt.title('Confusion Matrix')\n",
        "plt.show()"
      ],
      "metadata": {
        "colab": {
          "base_uri": "https://localhost:8080/",
          "height": 755
        },
        "id": "oWrGKUyfTMX7",
        "outputId": "44088917-74dd-45a0-b924-f55b7d6381e0"
      },
      "execution_count": null,
      "outputs": [
        {
          "output_type": "stream",
          "name": "stdout",
          "text": [
            "\n",
            "Classification Report:\n",
            "              precision    recall  f1-score   support\n",
            "\n",
            "           0       0.98      0.99      0.99      3309\n",
            "           1       0.99      0.98      0.99      3435\n",
            "\n",
            "    accuracy                           0.99      6744\n",
            "   macro avg       0.99      0.99      0.99      6744\n",
            "weighted avg       0.99      0.99      0.99      6744\n",
            "\n"
          ]
        },
        {
          "output_type": "display_data",
          "data": {
            "text/plain": [
              "<Figure size 800x600 with 2 Axes>"
            ],
            "image/png": "[encoded data removed]"
          },
          "metadata": {}
        }
      ]
    },
    {
      "cell_type": "code",
      "source": [
        "# 20. Save the model\n",
        "torch.save({\n",
        "    'model_state_dict': model.state_dict(),\n",
        "    'optimizer_state_dict': optimizer.state_dict(),\n",
        "    'tfidf_vectorizer': tfidf_vectorizer,\n",
        "    'scaler': scaler,\n",
        "}, 'spam_detection_mlp.pt')\n",
        "print(\"Model saved to 'spam_detection_mlp.pt'\")"
      ],
      "metadata": {
        "colab": {
          "base_uri": "https://localhost:8080/"
        },
        "id": "teBsYK7fTPI2",
        "outputId": "5b7a3356-46ce-4be9-f01d-879ebbb33dcd"
      },
      "execution_count": null,
      "outputs": [
        {
          "output_type": "stream",
          "name": "stdout",
          "text": [
            "Model saved to 'spam_detection_mlp.pt'\n"
          ]
        }
      ]
    },
    {
      "cell_type": "code",
      "source": [
        "# 21. Function to predict on new emails\n",
        "def predict_spam_mlp(emails, model_path='spam_detection_mlp.pt'):\n",
        "    # Load the model and preprocessing components\n",
        "    checkpoint = torch.load(model_path)\n",
        "\n",
        "    # Get the vectorizer and scaler\n",
        "    vectorizer = checkpoint['tfidf_vectorizer']\n",
        "    scaler = checkpoint['scaler']\n",
        "\n",
        "    # Recreate the model\n",
        "    input_dim = len(vectorizer.get_feature_names_out())\n",
        "    model = SpamMLP(input_dim=input_dim)\n",
        "    model.load_state_dict(checkpoint['model_state_dict'])\n",
        "    model.eval()\n",
        "\n",
        "    # Preprocess emails\n",
        "    processed_emails = [preprocess_email(email) for email in emails]\n",
        "\n",
        "    # Transform to TF-IDF\n",
        "    X = vectorizer.transform(processed_emails)\n",
        "    X_scaled = scaler.transform(X)\n",
        "    X_tensor = torch.FloatTensor(X_scaled.toarray())\n",
        "\n",
        "    # Make predictions\n",
        "    with torch.no_grad():\n",
        "        outputs = model(X_tensor)\n",
        "        probabilities = torch.nn.functional.softmax(outputs, dim=1)\n",
        "        predictions = torch.argmax(probabilities, dim=1)\n",
        "\n",
        "    # Prepare results\n",
        "    results = []\n",
        "    for i, email in enumerate(emails):\n",
        "        label = \"SPAM\" if predictions[i].item() == 1 else \"HAM\"\n",
        "        confidence = probabilities[i][predictions[i]].item()\n",
        "        results.append({\n",
        "            \"email\": email[:100] + \"...\" if len(email) > 100 else email,\n",
        "            \"prediction\": label,\n",
        "            \"confidence\": f\"{confidence:.4f}\"\n",
        "        })\n",
        "\n",
        "    return pd.DataFrame(results)"
      ],
      "metadata": {
        "id": "TOKXa0-kTUje"
      },
      "execution_count": null,
      "outputs": []
    },
    {
      "cell_type": "code",
      "execution_count": null,
      "metadata": {
        "colab": {
          "base_uri": "https://localhost:8080/"
        },
        "id": "Py6uCqk5SPWe",
        "outputId": "72bba6df-a33d-4649-b9db-2c9b15b176ab"
      },
      "outputs": [
        {
          "output_type": "stream",
          "name": "stdout",
          "text": [
            "\n",
            "Predictions on new emails:\n",
            "                                               email prediction confidence\n",
            "0  Fuck you man! Why don't you receive my phone? ...       SPAM     1.0000\n",
            "1  Hello, just checking in about the meeting tomo...        HAM     1.0000\n",
            "2  CONGRATULATIONS! You've WON $10,000,000.00 in ...       SPAM     1.0000\n",
            "3  Please find attached the quarterly report for ...        HAM     1.0000\n",
            "4  URGENT: Your account has been compromised. Cli...       SPAM     1.0000\n"
          ]
        },
        {
          "output_type": "stream",
          "name": "stderr",
          "text": [
            "<ipython-input-22-579983405f8d>:4: FutureWarning: You are using `torch.load` with `weights_only=False` (the current default value), which uses the default pickle module implicitly. It is possible to construct malicious pickle data which will execute arbitrary code during unpickling (See https://github.com/pytorch/pytorch/blob/main/SECURITY.md#untrusted-models for more details). In a future release, the default value for `weights_only` will be flipped to `True`. This limits the functions that could be executed during unpickling. Arbitrary objects will no longer be allowed to be loaded via this mode unless they are explicitly allowlisted by the user via `torch.serialization.add_safe_globals`. We recommend you start setting `weights_only=True` for any use case where you don't have full control of the loaded file. Please open an issue on GitHub for any issues related to this experimental feature.\n",
            "  checkpoint = torch.load(model_path)\n"
          ]
        }
      ],
      "source": [
        "\n",
        "\n",
        "# 22. Test with example emails\n",
        "example_emails = [\n",
        "    \"Hello, just checking in about the meeting tomorrow. Let me know if you need anything from me before then.\",\n",
        "    \"CONGRATULATIONS! You've WON $10,000,000.00 in our lottery! Send your bank details now to claim your prize!\",\n",
        "    \"Please find attached the quarterly report for your review. Let me know if you have any questions.\",\n",
        "    \"URGENT: Your account has been compromised. Click here immediately to verify your details and secure your account.\"\n",
        "]\n",
        "\n",
        "prediction_df = predict_spam_mlp(example_emails)\n",
        "print(\"\\nPredictions on new emails:\")\n",
        "print(prediction_df)"
      ]
    }
  ]
}