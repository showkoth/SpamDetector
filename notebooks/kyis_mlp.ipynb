{
  "nbformat": 4,
  "nbformat_minor": 0,
  "metadata": {
    "colab": {
      "provenance": []
    },
    "kernelspec": {
      "name": "python3",
      "display_name": "Python 3"
    },
    "language_info": {
      "name": "python"
    },
    "widgets": {
      "application/vnd.jupyter.widget-state+json": {
        "a084bd5766194276bdd09ed7915a11a7": {
          "model_module": "@jupyter-widgets/controls",
          "model_name": "HBoxModel",
          "model_module_version": "1.5.0",
          "state": {
            "_dom_classes": [],
            "_model_module": "@jupyter-widgets/controls",
            "_model_module_version": "1.5.0",
            "_model_name": "HBoxModel",
            "_view_count": null,
            "_view_module": "@jupyter-widgets/controls",
            "_view_module_version": "1.5.0",
            "_view_name": "HBoxView",
            "box_style": "",
            "children": [
              "IPY_MODEL_3865a7b1c515492b9e610b4a5574db67",
              "IPY_MODEL_c377d9c1eb5d4db0aa7e16e98fa42625",
              "IPY_MODEL_ccb30504a8e7476aabfa12a31457ffaa"
            ],
            "layout": "IPY_MODEL_4ebfe502057848d1b7794120135c151f"
          }
        },
        "3865a7b1c515492b9e610b4a5574db67": {
          "model_module": "@jupyter-widgets/controls",
          "model_name": "HTMLModel",
          "model_module_version": "1.5.0",
          "state": {
            "_dom_classes": [],
            "_model_module": "@jupyter-widgets/controls",
            "_model_module_version": "1.5.0",
            "_model_name": "HTMLModel",
            "_view_count": null,
            "_view_module": "@jupyter-widgets/controls",
            "_view_module_version": "1.5.0",
            "_view_name": "HTMLView",
            "description": "",
            "description_tooltip": null,
            "layout": "IPY_MODEL_ee968c40fae141f0ba02f333fe996e96",
            "placeholder": "​",
            "style": "IPY_MODEL_8e986828fadb4cec9888bb64848c9973",
            "value": "100%"
          }
        },
        "c377d9c1eb5d4db0aa7e16e98fa42625": {
          "model_module": "@jupyter-widgets/controls",
          "model_name": "FloatProgressModel",
          "model_module_version": "1.5.0",
          "state": {
            "_dom_classes": [],
            "_model_module": "@jupyter-widgets/controls",
            "_model_module_version": "1.5.0",
            "_model_name": "FloatProgressModel",
            "_view_count": null,
            "_view_module": "@jupyter-widgets/controls",
            "_view_module_version": "1.5.0",
            "_view_name": "ProgressView",
            "bar_style": "success",
            "description": "",
            "description_tooltip": null,
            "layout": "IPY_MODEL_2fa32432b33b4031a6d637d743eed9ef",
            "max": 10,
            "min": 0,
            "orientation": "horizontal",
            "style": "IPY_MODEL_33ada31177d94133a47115e37ec40545",
            "value": 10
          }
        },
        "ccb30504a8e7476aabfa12a31457ffaa": {
          "model_module": "@jupyter-widgets/controls",
          "model_name": "HTMLModel",
          "model_module_version": "1.5.0",
          "state": {
            "_dom_classes": [],
            "_model_module": "@jupyter-widgets/controls",
            "_model_module_version": "1.5.0",
            "_model_name": "HTMLModel",
            "_view_count": null,
            "_view_module": "@jupyter-widgets/controls",
            "_view_module_version": "1.5.0",
            "_view_name": "HTMLView",
            "description": "",
            "description_tooltip": null,
            "layout": "IPY_MODEL_4b8677a60be24d218d3c02a9e747f88d",
            "placeholder": "​",
            "style": "IPY_MODEL_06c65ab025c846c8b2efd247c3d1ac32",
            "value": " 10/10 [00:13&lt;00:00,  1.34s/it]"
          }
        },
        "4ebfe502057848d1b7794120135c151f": {
          "model_module": "@jupyter-widgets/base",
          "model_name": "LayoutModel",
          "model_module_version": "1.2.0",
          "state": {
            "_model_module": "@jupyter-widgets/base",
            "_model_module_version": "1.2.0",
            "_model_name": "LayoutModel",
            "_view_count": null,
            "_view_module": "@jupyter-widgets/base",
            "_view_module_version": "1.2.0",
            "_view_name": "LayoutView",
            "align_content": null,
            "align_items": null,
            "align_self": null,
            "border": null,
            "bottom": null,
            "display": null,
            "flex": null,
            "flex_flow": null,
            "grid_area": null,
            "grid_auto_columns": null,
            "grid_auto_flow": null,
            "grid_auto_rows": null,
            "grid_column": null,
            "grid_gap": null,
            "grid_row": null,
            "grid_template_areas": null,
            "grid_template_columns": null,
            "grid_template_rows": null,
            "height": null,
            "justify_content": null,
            "justify_items": null,
            "left": null,
            "margin": null,
            "max_height": null,
            "max_width": null,
            "min_height": null,
            "min_width": null,
            "object_fit": null,
            "object_position": null,
            "order": null,
            "overflow": null,
            "overflow_x": null,
            "overflow_y": null,
            "padding": null,
            "right": null,
            "top": null,
            "visibility": null,
            "width": null
          }
        },
        "ee968c40fae141f0ba02f333fe996e96": {
          "model_module": "@jupyter-widgets/base",
          "model_name": "LayoutModel",
          "model_module_version": "1.2.0",
          "state": {
            "_model_module": "@jupyter-widgets/base",
            "_model_module_version": "1.2.0",
            "_model_name": "LayoutModel",
            "_view_count": null,
            "_view_module": "@jupyter-widgets/base",
            "_view_module_version": "1.2.0",
            "_view_name": "LayoutView",
            "align_content": null,
            "align_items": null,
            "align_self": null,
            "border": null,
            "bottom": null,
            "display": null,
            "flex": null,
            "flex_flow": null,
            "grid_area": null,
            "grid_auto_columns": null,
            "grid_auto_flow": null,
            "grid_auto_rows": null,
            "grid_column": null,
            "grid_gap": null,
            "grid_row": null,
            "grid_template_areas": null,
            "grid_template_columns": null,
            "grid_template_rows": null,
            "height": null,
            "justify_content": null,
            "justify_items": null,
            "left": null,
            "margin": null,
            "max_height": null,
            "max_width": null,
            "min_height": null,
            "min_width": null,
            "object_fit": null,
            "object_position": null,
            "order": null,
            "overflow": null,
            "overflow_x": null,
            "overflow_y": null,
            "padding": null,
            "right": null,
            "top": null,
            "visibility": null,
            "width": null
          }
        },
        "8e986828fadb4cec9888bb64848c9973": {
          "model_module": "@jupyter-widgets/controls",
          "model_name": "DescriptionStyleModel",
          "model_module_version": "1.5.0",
          "state": {
            "_model_module": "@jupyter-widgets/controls",
            "_model_module_version": "1.5.0",
            "_model_name": "DescriptionStyleModel",
            "_view_count": null,
            "_view_module": "@jupyter-widgets/base",
            "_view_module_version": "1.2.0",
            "_view_name": "StyleView",
            "description_width": ""
          }
        },
        "2fa32432b33b4031a6d637d743eed9ef": {
          "model_module": "@jupyter-widgets/base",
          "model_name": "LayoutModel",
          "model_module_version": "1.2.0",
          "state": {
            "_model_module": "@jupyter-widgets/base",
            "_model_module_version": "1.2.0",
            "_model_name": "LayoutModel",
            "_view_count": null,
            "_view_module": "@jupyter-widgets/base",
            "_view_module_version": "1.2.0",
            "_view_name": "LayoutView",
            "align_content": null,
            "align_items": null,
            "align_self": null,
            "border": null,
            "bottom": null,
            "display": null,
            "flex": null,
            "flex_flow": null,
            "grid_area": null,
            "grid_auto_columns": null,
            "grid_auto_flow": null,
            "grid_auto_rows": null,
            "grid_column": null,
            "grid_gap": null,
            "grid_row": null,
            "grid_template_areas": null,
            "grid_template_columns": null,
            "grid_template_rows": null,
            "height": null,
            "justify_content": null,
            "justify_items": null,
            "left": null,
            "margin": null,
            "max_height": null,
            "max_width": null,
            "min_height": null,
            "min_width": null,
            "object_fit": null,
            "object_position": null,
            "order": null,
            "overflow": null,
            "overflow_x": null,
            "overflow_y": null,
            "padding": null,
            "right": null,
            "top": null,
            "visibility": null,
            "width": null
          }
        },
        "33ada31177d94133a47115e37ec40545": {
          "model_module": "@jupyter-widgets/controls",
          "model_name": "ProgressStyleModel",
          "model_module_version": "1.5.0",
          "state": {
            "_model_module": "@jupyter-widgets/controls",
            "_model_module_version": "1.5.0",
            "_model_name": "ProgressStyleModel",
            "_view_count": null,
            "_view_module": "@jupyter-widgets/base",
            "_view_module_version": "1.2.0",
            "_view_name": "StyleView",
            "bar_color": null,
            "description_width": ""
          }
        },
        "4b8677a60be24d218d3c02a9e747f88d": {
          "model_module": "@jupyter-widgets/base",
          "model_name": "LayoutModel",
          "model_module_version": "1.2.0",
          "state": {
            "_model_module": "@jupyter-widgets/base",
            "_model_module_version": "1.2.0",
            "_model_name": "LayoutModel",
            "_view_count": null,
            "_view_module": "@jupyter-widgets/base",
            "_view_module_version": "1.2.0",
            "_view_name": "LayoutView",
            "align_content": null,
            "align_items": null,
            "align_self": null,
            "border": null,
            "bottom": null,
            "display": null,
            "flex": null,
            "flex_flow": null,
            "grid_area": null,
            "grid_auto_columns": null,
            "grid_auto_flow": null,
            "grid_auto_rows": null,
            "grid_column": null,
            "grid_gap": null,
            "grid_row": null,
            "grid_template_areas": null,
            "grid_template_columns": null,
            "grid_template_rows": null,
            "height": null,
            "justify_content": null,
            "justify_items": null,
            "left": null,
            "margin": null,
            "max_height": null,
            "max_width": null,
            "min_height": null,
            "min_width": null,
            "object_fit": null,
            "object_position": null,
            "order": null,
            "overflow": null,
            "overflow_x": null,
            "overflow_y": null,
            "padding": null,
            "right": null,
            "top": null,
            "visibility": null,
            "width": null
          }
        },
        "06c65ab025c846c8b2efd247c3d1ac32": {
          "model_module": "@jupyter-widgets/controls",
          "model_name": "DescriptionStyleModel",
          "model_module_version": "1.5.0",
          "state": {
            "_model_module": "@jupyter-widgets/controls",
            "_model_module_version": "1.5.0",
            "_model_name": "DescriptionStyleModel",
            "_view_count": null,
            "_view_module": "@jupyter-widgets/base",
            "_view_module_version": "1.2.0",
            "_view_name": "StyleView",
            "description_width": ""
          }
        }
      }
    }
  },
  "cells": [
    {
      "cell_type": "code",
      "source": [
        "# Email Spam Detection with MLP from Scratch\n",
        "# ======================================\n",
        "# This notebook builds a spam detection model using a Multi-Layer Perceptron (MLP)\n",
        "# Author: Showkot Hossain\n",
        "# Course: Neural Networks\n",
        "# Semester: Spring 2025\n",
        "# Instructor: Prof. Adam Czajka\n",
        "# University of Notre Dame, Notre Dame, IN 46556\n",
        "\n",
        "import pandas as pd\n",
        "import numpy as np\n",
        "import matplotlib.pyplot as plt\n",
        "import seaborn as sns\n",
        "from sklearn.model_selection import train_test_split\n",
        "from sklearn.metrics import classification_report, confusion_matrix, accuracy_score\n",
        "from sklearn.feature_extraction.text import TfidfVectorizer\n",
        "from sklearn.preprocessing import StandardScaler\n",
        "\n",
        "# For neural network\n",
        "import torch\n",
        "import torch.nn as nn\n",
        "import torch.optim as optim\n",
        "from torch.utils.data import DataLoader, TensorDataset\n",
        "\n",
        "# 1. Download and extract the dataset\n",
        "!wget -nc https://github.com/MWiechmann/enron_spam_data/raw/master/enron_spam_data.zip\n",
        "!unzip -o enron_spam_data.zip"
      ],
      "metadata": {
        "colab": {
          "base_uri": "https://localhost:8080/"
        },
        "id": "nHjEhDlFSbgJ",
        "outputId": "69541817-4bfe-47ff-f195-d02a0944ed03"
      },
      "execution_count": 27,
      "outputs": [
        {
          "output_type": "stream",
          "name": "stdout",
          "text": [
            "File ‘enron_spam_data.zip’ already there; not retrieving.\n",
            "\n",
            "Archive:  enron_spam_data.zip\n",
            "  inflating: enron_spam_data.csv     \n"
          ]
        }
      ]
    },
    {
      "cell_type": "code",
      "source": [
        "# 2. Load the CSV file\n",
        "df = pd.read_csv('enron_spam_data.csv')"
      ],
      "metadata": {
        "id": "hcVPGDjJSeZH"
      },
      "execution_count": 28,
      "outputs": []
    },
    {
      "cell_type": "code",
      "source": [
        "# 3. Display dataset information\n",
        "print(f\"Total emails: {len(df)}\")\n",
        "print(f\"Column names: {df.columns.tolist()}\")\n",
        "\n",
        "# Print the first few rows\n",
        "print(\"\\nFirst few rows of the dataset:\")\n",
        "print(df.head(2))\n"
      ],
      "metadata": {
        "colab": {
          "base_uri": "https://localhost:8080/"
        },
        "id": "R0zZK5knSgsy",
        "outputId": "df301997-d028-4c6d-b747-373d2bbac36c"
      },
      "execution_count": 29,
      "outputs": [
        {
          "output_type": "stream",
          "name": "stdout",
          "text": [
            "Total emails: 33716\n",
            "Column names: ['Message ID', 'Subject', 'Message', 'Spam/Ham', 'Date']\n",
            "\n",
            "First few rows of the dataset:\n",
            "   Message ID                       Subject  \\\n",
            "0           0  christmas tree farm pictures   \n",
            "1           1      vastar resources , inc .   \n",
            "\n",
            "                                             Message Spam/Ham        Date  \n",
            "0                                                NaN      ham  1999-12-10  \n",
            "1  gary , production from the high island larger ...      ham  1999-12-13  \n"
          ]
        }
      ]
    },
    {
      "cell_type": "code",
      "source": [
        "# 4. Check for label column and convert to binary\n",
        "if 'Spam/Ham' in df.columns:\n",
        "    # Convert Spam/Ham labels to binary (1 for spam, 0 for ham)\n",
        "    df['label'] = df['Spam/Ham'].apply(lambda x: 1 if x.lower() == 'spam' else 0)\n",
        "else:\n",
        "    # Look for other potential label columns\n",
        "    potential_label_cols = [col for col in df.columns if any(keyword in col.lower() for keyword in ['spam', 'ham', 'label', 'class'])]\n",
        "    if potential_label_cols:\n",
        "        print(f\"Potential label columns found: {potential_label_cols}\")\n",
        "        # Use the first potential column\n",
        "        df['label'] = df[potential_label_cols[0]].apply(lambda x: 1 if str(x).lower() == 'spam' else 0)\n",
        "    else:\n",
        "        raise ValueError(\"Couldn't identify label column in the dataset\")"
      ],
      "metadata": {
        "id": "adfLjzKXSkzg"
      },
      "execution_count": 30,
      "outputs": []
    },
    {
      "cell_type": "code",
      "source": [
        "# 5. Combine Subject and Message for better feature representation\n",
        "df['text'] = \"Subject: \" + df['Subject'].fillna('') + \" \" + df['Message'].fillna('')\n",
        "\n",
        "# Print dataset distribution\n",
        "print(f\"Spam emails: {sum(df['label'])}\")\n",
        "print(f\"Ham emails: {len(df) - sum(df['label'])}\")\n",
        "print(f\"Spam ratio: {sum(df['label'])/len(df):.2f}\")\n",
        "\n",
        "# Check if text column was correctly assigned\n",
        "print(\"\\nSample text column entries:\")\n",
        "print(df['text'].head(2).tolist())\n",
        "\n",
        "# Display sample emails\n",
        "print(\"\\nSample SPAM email:\")\n",
        "spam_sample = df[df['label'] == 1]['text'].iloc[0]\n",
        "print(spam_sample[:500] + \"...\" if len(str(spam_sample)) > 500 else spam_sample)\n",
        "\n",
        "print(\"\\nSample HAM email:\")\n",
        "ham_sample = df[df['label'] == 0]['text'].iloc[0]\n",
        "print(ham_sample[:500] + \"...\" if len(str(ham_sample)) > 500 else ham_sample)"
      ],
      "metadata": {
        "colab": {
          "base_uri": "https://localhost:8080/"
        },
        "id": "njPY3hN6SnZX",
        "outputId": "39dafa74-9959-4d73-c656-01992a026481"
      },
      "execution_count": 31,
      "outputs": [
        {
          "output_type": "stream",
          "name": "stdout",
          "text": [
            "Spam emails: 17171\n",
            "Ham emails: 16545\n",
            "Spam ratio: 0.51\n",
            "\n",
            "Sample text column entries:\n",
            "['Subject: christmas tree farm pictures ', 'Subject: vastar resources , inc . gary , production from the high island larger block a - 1 # 2 commenced on\\nsaturday at 2 : 00 p . m . at about 6 , 500 gross . carlos expects between 9 , 500 and\\n10 , 000 gross for tomorrow . vastar owns 68 % of the gross production .\\ngeorge x 3 - 6992\\n- - - - - - - - - - - - - - - - - - - - - - forwarded by george weissman / hou / ect on 12 / 13 / 99 10 : 16\\nam - - - - - - - - - - - - - - - - - - - - - - - - - - -\\ndaren j farmer\\n12 / 10 / 99 10 : 38 am\\nto : carlos j rodriguez / hou / ect @ ect\\ncc : george weissman / hou / ect @ ect , melissa graves / hou / ect @ ect\\nsubject : vastar resources , inc .\\ncarlos ,\\nplease call linda and get everything set up .\\ni \\' m going to estimate 4 , 500 coming up tomorrow , with a 2 , 000 increase each\\nfollowing day based on my conversations with bill fischer at bmar .\\nd .\\n- - - - - - - - - - - - - - - - - - - - - - forwarded by daren j farmer / hou / ect on 12 / 10 / 99 10 : 34\\nam - - - - - - - - - - - - - - - - - - - - - - - - - - -\\nenron north america corp .\\nfrom : george weissman 12 / 10 / 99 10 : 00 am\\nto : daren j farmer / hou / ect @ ect\\ncc : gary bryan / hou / ect @ ect , melissa graves / hou / ect @ ect\\nsubject : vastar resources , inc .\\ndarren ,\\nthe attached appears to be a nomination from vastar resources , inc . for the\\nhigh island larger block a - 1 # 2 ( previously , erroneously referred to as the\\n# 1 well ) . vastar now expects the well to commence production sometime\\ntomorrow . i told linda harris that we \\' d get her a telephone number in gas\\ncontrol so she can provide notification of the turn - on tomorrow . linda \\' s\\nnumbers , for the record , are 281 . 584 . 3359 voice and 713 . 312 . 1689 fax .\\nwould you please see that someone contacts linda and advises her how to\\nsubmit future nominations via e - mail , fax or voice ? thanks .\\ngeorge x 3 - 6992\\n- - - - - - - - - - - - - - - - - - - - - - forwarded by george weissman / hou / ect on 12 / 10 / 99 09 : 44\\nam - - - - - - - - - - - - - - - - - - - - - - - - - - -\\n\" linda harris \" on 12 / 10 / 99 09 : 38 : 43 am\\nto : george weissman / hou / ect @ ect\\ncc :\\nsubject : hi a - 1 # 2\\neffective 12 - 11 - 99\\n| - - - - - - - - + - - - - - - - - - - + - - - - - - - - - - - |\\n| | | |\\n| mscf / d | min ftp | time |\\n| | | |\\n| - - - - - - - - + - - - - - - - - - - + - - - - - - - - - - - |\\n| | | |\\n| 4 , 500 | 9 , 925 | 24 hours |\\n| | | |\\n| - - - - - - - - + - - - - - - - - - - + - - - - - - - - - - - |\\n| | | |\\n| 6 , 000 | 9 , 908 | 24 hours |\\n| | | |\\n| - - - - - - - - + - - - - - - - - - - + - - - - - - - - - - - |\\n| | | |\\n| 8 , 000 | 9 , 878 | 24 hours |\\n| | | |\\n| - - - - - - - - + - - - - - - - - - - + - - - - - - - - - - - |\\n| | | |\\n| 10 , 000 | 9 , 840 | 24 hours |\\n| | | |\\n| - - - - - - - - + - - - - - - - - - - + - - - - - - - - - - - |\\n| | | |\\n| 12 , 000 | 9 , 793 | 24 hours |\\n| | | |\\n| - - - - - - - - + - - - - - - - - - - + - - - - - - - - - - - |\\n| | | |\\n| 14 , 000 | 9 , 738 | 24 hours |\\n| | | |\\n| - - - - - - - - + - - - - - - - - - - + - - - - - - - - - - - |\\n| | | |\\n| 16 , 000 | 9 , 674 | 24 hours |\\n| | | |\\n| - - - - - - - - + - - - - - - - - - - + - - - - - - - - - - - |\\n| | | |\\n| 18 , 000 | 9 , 602 | 24 hours |\\n| | | |\\n| - - - - - - - - + - - - - - - - - - - + - - - - - - - - - - - |\\n| | | |\\n| 20 , 000 | 9 , 521 | 24 hours |\\n| | | |\\n| - - - - - - - - + - - - - - - - - - - + - - - - - - - - - - - |\\n| | | |\\n| 22 , 000 | 9 , 431 | 24 hours |\\n| | | |\\n| - - - - - - - - + - - - - - - - - - - + - - - - - - - - - - - |\\n| | | |\\n| 24 , 000 | 9 , 332 | 24 hours |\\n| | | |\\n| - - - - - - - - + - - - - - - - - - - + - - - - - - - - - - - |\\n| | | |\\n| 26 , 000 | 9 , 224 | 24 hours |\\n| | | |\\n| - - - - - - - - + - - - - - - - - - - + - - - - - - - - - - - |\\n| | | |\\n| 28 , 000 | 9 , 108 | 24 hours |\\n| | | |\\n| - - - - - - - - + - - - - - - - - - - + - - - - - - - - - - - |\\n| | | |\\n| 30 , 000 | 8 , 982 | 24 hours |\\n| | | |\\n| - - - - - - - - + - - - - - - - - - - + - - - - - - - - - - - |\\n| | | |\\n| 32 , 000 | 8 , 847 | 24 hours |\\n| | | |\\n| - - - - - - - - + - - - - - - - - - - + - - - - - - - - - - - |\\n| | | |\\n| 34 , 000 | 8 , 703 | 24 hours |\\n| | | |\\n| - - - - - - - - + - - - - - - - - - - + - - - - - - - - - - - |\\n| | | |\\n| 36 , 000 | 8 , 549 | 24 hours |\\n| | | |\\n| - - - - - - - - + - - - - - - - - - - + - - - - - - - - - - - |']\n",
            "\n",
            "Sample SPAM email:\n",
            "Subject: dobmeos with hgh my energy level has gone up ! stukm introducing\n",
            "doctor - formulated\n",
            "hgh\n",
            "human growth hormone - also called hgh\n",
            "is referred to in medical science as the master hormone . it is very plentiful\n",
            "when we are young , but near the age of twenty - one our bodies begin to produce\n",
            "less of it . by the time we are forty nearly everyone is deficient in hgh ,\n",
            "and at eighty our production has normally diminished at least 90 - 95 % .\n",
            "advantages of hgh :\n",
            "- increased muscle strength\n",
            "- los...\n",
            "\n",
            "Sample HAM email:\n",
            "Subject: christmas tree farm pictures \n"
          ]
        }
      ]
    },
    {
      "cell_type": "code",
      "source": [
        "# 6. Preprocess emails - basic cleaning\n",
        "def preprocess_email(text):\n",
        "    if pd.isna(text):\n",
        "        return \"\"\n",
        "\n",
        "    # Convert to string if not already\n",
        "    text = str(text)\n",
        "\n",
        "    # Basic cleaning (can be expanded)\n",
        "    text = text.lower()\n",
        "\n",
        "    return text\n",
        "\n",
        "# Apply preprocessing\n",
        "df['text'] = df['text'].apply(preprocess_email)\n",
        "\n",
        "# Remove any rows with empty text\n",
        "df = df[df['text'].str.strip() != \"\"]"
      ],
      "metadata": {
        "id": "eRKSLooESp2F"
      },
      "execution_count": 32,
      "outputs": []
    },
    {
      "cell_type": "code",
      "source": [
        "# 7. Split data\n",
        "train_df, test_df = train_test_split(df, test_size=0.2, random_state=42, stratify=df['label'])\n",
        "train_df, val_df = train_test_split(train_df, test_size=0.1, random_state=42, stratify=train_df['label'])\n",
        "\n",
        "print(f\"Training set size: {len(train_df)}\")\n",
        "print(f\"Validation set size: {len(val_df)}\")\n",
        "print(f\"Test set size: {len(test_df)}\")"
      ],
      "metadata": {
        "colab": {
          "base_uri": "https://localhost:8080/"
        },
        "id": "tVo7QfCiStLQ",
        "outputId": "4881e35a-e879-450e-c5e9-94b557d957c2"
      },
      "execution_count": 33,
      "outputs": [
        {
          "output_type": "stream",
          "name": "stdout",
          "text": [
            "Training set size: 24274\n",
            "Validation set size: 2698\n",
            "Test set size: 6744\n"
          ]
        }
      ]
    },
    {
      "cell_type": "code",
      "source": [
        "# 8. Feature extraction with TF-IDF\n",
        "# This converts text into numerical features based on word importance\n",
        "print(\"\\nExtracting features with TF-IDF...\")\n",
        "tfidf_vectorizer = TfidfVectorizer(max_features=5000,  # Limit features to prevent memory issues\n",
        "                                   min_df=5,           # Ignore terms that appear in less than 5 documents\n",
        "                                   max_df=0.7,         # Ignore terms that appear in more than 70% of documents\n",
        "                                   ngram_range=(1, 2)) # Use both unigrams and bigrams\n",
        "\n",
        "# Fit on training data only\n",
        "X_train_tfidf = tfidf_vectorizer.fit_transform(train_df['text'])\n",
        "X_val_tfidf = tfidf_vectorizer.transform(val_df['text'])\n",
        "X_test_tfidf = tfidf_vectorizer.transform(test_df['text'])\n",
        "\n",
        "print(f\"Feature vector shape: {X_train_tfidf.shape}\")\n",
        "print(f\"Number of features: {X_train_tfidf.shape[1]}\")\n",
        "\n",
        "# Optional: Normalize features for better training\n",
        "scaler = StandardScaler(with_mean=False)  # with_mean=False because TF-IDF is sparse\n",
        "X_train_scaled = scaler.fit_transform(X_train_tfidf)\n",
        "X_val_scaled = scaler.transform(X_val_tfidf)\n",
        "X_test_scaled = scaler.transform(X_test_tfidf)"
      ],
      "metadata": {
        "colab": {
          "base_uri": "https://localhost:8080/"
        },
        "id": "kxU30QHSSv9X",
        "outputId": "0a5df7e2-7b2c-45d8-8df0-a81066cc8fbe"
      },
      "execution_count": 34,
      "outputs": [
        {
          "output_type": "stream",
          "name": "stdout",
          "text": [
            "\n",
            "Extracting features with TF-IDF...\n",
            "Feature vector shape: (24274, 5000)\n",
            "Number of features: 5000\n"
          ]
        }
      ]
    },
    {
      "cell_type": "code",
      "source": [
        "# 9. Convert to PyTorch tensors\n",
        "X_train_tensor = torch.FloatTensor(X_train_scaled.toarray())\n",
        "X_val_tensor = torch.FloatTensor(X_val_scaled.toarray())\n",
        "X_test_tensor = torch.FloatTensor(X_test_scaled.toarray())\n",
        "\n",
        "y_train_tensor = torch.LongTensor(train_df['label'].values)\n",
        "y_val_tensor = torch.LongTensor(val_df['label'].values)\n",
        "y_test_tensor = torch.LongTensor(test_df['label'].values)"
      ],
      "metadata": {
        "id": "wJ309xQNSyyM"
      },
      "execution_count": 35,
      "outputs": []
    },
    {
      "cell_type": "code",
      "source": [
        "# 10. Create data loaders\n",
        "batch_size = 64\n",
        "train_dataset = TensorDataset(X_train_tensor, y_train_tensor)\n",
        "val_dataset = TensorDataset(X_val_tensor, y_val_tensor)\n",
        "test_dataset = TensorDataset(X_test_tensor, y_test_tensor)\n",
        "\n",
        "train_loader = DataLoader(train_dataset, batch_size=batch_size, shuffle=True)\n",
        "val_loader = DataLoader(val_dataset, batch_size=batch_size)\n",
        "test_loader = DataLoader(test_dataset, batch_size=batch_size)"
      ],
      "metadata": {
        "id": "RUpsorg0S0wA"
      },
      "execution_count": 36,
      "outputs": []
    },
    {
      "cell_type": "code",
      "source": [
        "# 11. Define the MLP model\n",
        "class SpamMLP(nn.Module):\n",
        "    def __init__(self, input_dim, hidden_dims=[512, 128], output_dim=2, dropout_rate=0.5):\n",
        "        super(SpamMLP, self).__init__()\n",
        "\n",
        "        # Build layers dynamically based on hidden_dims\n",
        "        layers = []\n",
        "\n",
        "        # Input layer\n",
        "        layers.append(nn.Linear(input_dim, hidden_dims[0]))\n",
        "        layers.append(nn.ReLU())\n",
        "        layers.append(nn.Dropout(dropout_rate))\n",
        "\n",
        "        # Hidden layers\n",
        "        for i in range(len(hidden_dims)-1):\n",
        "            layers.append(nn.Linear(hidden_dims[i], hidden_dims[i+1]))\n",
        "            layers.append(nn.ReLU())\n",
        "            layers.append(nn.Dropout(dropout_rate))\n",
        "\n",
        "        # Output layer\n",
        "        layers.append(nn.Linear(hidden_dims[-1], output_dim))\n",
        "\n",
        "        # Combine all layers\n",
        "        self.model = nn.Sequential(*layers)\n",
        "\n",
        "    def forward(self, x):\n",
        "        return self.model(x)"
      ],
      "metadata": {
        "id": "Phcd4C85S26c"
      },
      "execution_count": 37,
      "outputs": []
    },
    {
      "cell_type": "code",
      "source": [
        "# 12. Initialize model and training parameters\n",
        "input_dim = X_train_tensor.shape[1]\n",
        "model = SpamMLP(input_dim=input_dim)\n",
        "print(model)"
      ],
      "metadata": {
        "colab": {
          "base_uri": "https://localhost:8080/"
        },
        "id": "DKt0Nr0QS5Q-",
        "outputId": "49bb8c30-da96-4bfa-f055-754e7f2c48d7"
      },
      "execution_count": 38,
      "outputs": [
        {
          "output_type": "stream",
          "name": "stdout",
          "text": [
            "SpamMLP(\n",
            "  (model): Sequential(\n",
            "    (0): Linear(in_features=5000, out_features=512, bias=True)\n",
            "    (1): ReLU()\n",
            "    (2): Dropout(p=0.5, inplace=False)\n",
            "    (3): Linear(in_features=512, out_features=128, bias=True)\n",
            "    (4): ReLU()\n",
            "    (5): Dropout(p=0.5, inplace=False)\n",
            "    (6): Linear(in_features=128, out_features=2, bias=True)\n",
            "  )\n",
            ")\n"
          ]
        }
      ]
    },
    {
      "cell_type": "code",
      "source": [
        "# 13. Define loss function and optimizer\n",
        "criterion = nn.CrossEntropyLoss()\n",
        "optimizer = optim.Adam(model.parameters(), lr=0.001)"
      ],
      "metadata": {
        "id": "l5pfGkUrS8e8"
      },
      "execution_count": 39,
      "outputs": []
    },
    {
      "cell_type": "code",
      "source": [
        "# 14. Training function\n",
        "def train_epoch(model, loader, criterion, optimizer, device=\"cpu\"):\n",
        "    model.train()\n",
        "    running_loss = 0.0\n",
        "    correct = 0\n",
        "    total = 0\n",
        "\n",
        "    for inputs, labels in loader:\n",
        "        inputs, labels = inputs.to(device), labels.to(device)\n",
        "\n",
        "        # Zero the parameter gradients\n",
        "        optimizer.zero_grad()\n",
        "\n",
        "        # Forward pass\n",
        "        outputs = model(inputs)\n",
        "        loss = criterion(outputs, labels)\n",
        "\n",
        "        # Backward pass and optimize\n",
        "        loss.backward()\n",
        "        optimizer.step()\n",
        "\n",
        "        # Statistics\n",
        "        running_loss += loss.item() * inputs.size(0)\n",
        "        _, predicted = torch.max(outputs, 1)\n",
        "        total += labels.size(0)\n",
        "        correct += (predicted == labels).sum().item()\n",
        "\n",
        "    epoch_loss = running_loss / total\n",
        "    epoch_acc = correct / total\n",
        "    return epoch_loss, epoch_acc"
      ],
      "metadata": {
        "id": "yHocKYOvS-_l"
      },
      "execution_count": 40,
      "outputs": []
    },
    {
      "cell_type": "code",
      "source": [
        "# 15. Evaluation function\n",
        "def evaluate(model, loader, criterion, device=\"cpu\"):\n",
        "    model.eval()\n",
        "    running_loss = 0.0\n",
        "    correct = 0\n",
        "    total = 0\n",
        "\n",
        "    with torch.no_grad():\n",
        "        for inputs, labels in loader:\n",
        "            inputs, labels = inputs.to(device), labels.to(device)\n",
        "\n",
        "            # Forward pass\n",
        "            outputs = model(inputs)\n",
        "            loss = criterion(outputs, labels)\n",
        "\n",
        "            # Statistics\n",
        "            running_loss += loss.item() * inputs.size(0)\n",
        "            _, predicted = torch.max(outputs, 1)\n",
        "            total += labels.size(0)\n",
        "            correct += (predicted == labels).sum().item()\n",
        "\n",
        "    epoch_loss = running_loss / total\n",
        "    epoch_acc = correct / total\n",
        "    return epoch_loss, epoch_acc"
      ],
      "metadata": {
        "id": "CMAa269xTBdk"
      },
      "execution_count": 41,
      "outputs": []
    },
    {
      "cell_type": "code",
      "source": [
        "# 16. Training loop\n",
        "device = torch.device(\"cuda\" if torch.cuda.is_available() else \"cpu\")\n",
        "print(f\"Using device: {device}\")\n",
        "model.to(device)\n",
        "\n",
        "num_epochs = 10\n",
        "train_losses = []\n",
        "val_losses = []\n",
        "train_accs = []\n",
        "val_accs = []\n",
        "\n",
        "# Create a nice-looking progress bar\n",
        "from tqdm.notebook import tqdm\n",
        "\n",
        "print(\"Starting training...\")\n",
        "for epoch in tqdm(range(num_epochs)):\n",
        "    # Train\n",
        "    train_loss, train_acc = train_epoch(model, train_loader, criterion, optimizer, device)\n",
        "    train_losses.append(train_loss)\n",
        "    train_accs.append(train_acc)\n",
        "\n",
        "    # Evaluate\n",
        "    val_loss, val_acc = evaluate(model, val_loader, criterion, device)\n",
        "    val_losses.append(val_loss)\n",
        "    val_accs.append(val_acc)\n",
        "\n",
        "    print(f\"Epoch {epoch+1}/{num_epochs}, Train Loss: {train_loss:.4f}, Train Acc: {train_acc:.4f}, Val Loss: {val_loss:.4f}, Val Acc: {val_acc:.4f}\")"
      ],
      "metadata": {
        "colab": {
          "base_uri": "https://localhost:8080/",
          "height": 263,
          "referenced_widgets": [
            "a084bd5766194276bdd09ed7915a11a7",
            "3865a7b1c515492b9e610b4a5574db67",
            "c377d9c1eb5d4db0aa7e16e98fa42625",
            "ccb30504a8e7476aabfa12a31457ffaa",
            "4ebfe502057848d1b7794120135c151f",
            "ee968c40fae141f0ba02f333fe996e96",
            "8e986828fadb4cec9888bb64848c9973",
            "2fa32432b33b4031a6d637d743eed9ef",
            "33ada31177d94133a47115e37ec40545",
            "4b8677a60be24d218d3c02a9e747f88d",
            "06c65ab025c846c8b2efd247c3d1ac32"
          ]
        },
        "id": "LNgc3jbCTEVN",
        "outputId": "2f86378d-fc15-4fcf-eb66-f583d6ff54f5"
      },
      "execution_count": 42,
      "outputs": [
        {
          "output_type": "stream",
          "name": "stdout",
          "text": [
            "Using device: cuda\n",
            "Starting training...\n"
          ]
        },
        {
          "output_type": "display_data",
          "data": {
            "text/plain": [
              "  0%|          | 0/10 [00:00<?, ?it/s]"
            ],
            "application/vnd.jupyter.widget-view+json": {
              "version_major": 2,
              "version_minor": 0,
              "model_id": "a084bd5766194276bdd09ed7915a11a7"
            }
          },
          "metadata": {}
        },
        {
          "output_type": "stream",
          "name": "stdout",
          "text": [
            "Epoch 1/10, Train Loss: 0.0781, Train Acc: 0.9739, Val Loss: 0.0520, Val Acc: 0.9826\n",
            "Epoch 2/10, Train Loss: 0.0232, Train Acc: 0.9925, Val Loss: 0.0543, Val Acc: 0.9841\n",
            "Epoch 3/10, Train Loss: 0.0077, Train Acc: 0.9980, Val Loss: 0.0812, Val Acc: 0.9837\n",
            "Epoch 4/10, Train Loss: 0.0041, Train Acc: 0.9988, Val Loss: 0.1157, Val Acc: 0.9815\n",
            "Epoch 5/10, Train Loss: 0.0044, Train Acc: 0.9988, Val Loss: 0.1200, Val Acc: 0.9841\n",
            "Epoch 6/10, Train Loss: 0.0067, Train Acc: 0.9982, Val Loss: 0.1098, Val Acc: 0.9800\n",
            "Epoch 7/10, Train Loss: 0.0039, Train Acc: 0.9990, Val Loss: 0.1001, Val Acc: 0.9815\n",
            "Epoch 8/10, Train Loss: 0.0025, Train Acc: 0.9993, Val Loss: 0.1098, Val Acc: 0.9830\n",
            "Epoch 9/10, Train Loss: 0.0014, Train Acc: 0.9996, Val Loss: 0.1208, Val Acc: 0.9852\n",
            "Epoch 10/10, Train Loss: 0.0009, Train Acc: 0.9997, Val Loss: 0.1398, Val Acc: 0.9822\n"
          ]
        }
      ]
    },
    {
      "cell_type": "code",
      "source": [
        "# 17. Plot training and validation metrics\n",
        "plt.figure(figsize=(12, 5))\n",
        "plt.subplot(1, 2, 1)\n",
        "plt.plot(train_losses, label='Training Loss')\n",
        "plt.plot(val_losses, label='Validation Loss')\n",
        "plt.xlabel('Epochs')\n",
        "plt.ylabel('Loss')\n",
        "plt.legend()\n",
        "plt.title('Loss Curves')\n",
        "\n",
        "plt.subplot(1, 2, 2)\n",
        "plt.plot(train_accs, label='Training Accuracy')\n",
        "plt.plot(val_accs, label='Validation Accuracy')\n",
        "plt.xlabel('Epochs')\n",
        "plt.ylabel('Accuracy')\n",
        "plt.legend()\n",
        "plt.title('Accuracy Curves')\n",
        "plt.tight_layout()\n",
        "plt.show()"
      ],
      "metadata": {
        "colab": {
          "base_uri": "https://localhost:8080/",
          "height": 507
        },
        "id": "9os5zjT_THlc",
        "outputId": "aa24ee77-194d-4f98-b03f-08b774c9f425"
      },
      "execution_count": 43,
      "outputs": [
        {
          "output_type": "display_data",
          "data": {
            "text/plain": [
              "<Figure size 1200x500 with 2 Axes>"
            ],
            "image/png": "[encoded data removed]"
          },
          "metadata": {}
        }
      ]
    },
    {
      "cell_type": "code",
      "source": [
        "# 18. Evaluate on test set\n",
        "test_loss, test_acc = evaluate(model, test_loader, criterion, device)\n",
        "print(f\"Test Accuracy: {test_acc:.4f}\")"
      ],
      "metadata": {
        "colab": {
          "base_uri": "https://localhost:8080/"
        },
        "id": "2apMtzBATJtd",
        "outputId": "74e4289f-d4b1-4df8-ead3-318aaec98947"
      },
      "execution_count": 44,
      "outputs": [
        {
          "output_type": "stream",
          "name": "stdout",
          "text": [
            "Test Accuracy: 0.9861\n"
          ]
        }
      ]
    },
    {
      "cell_type": "code",
      "source": [
        "# 19. Generate detailed metrics\n",
        "all_preds = []\n",
        "all_labels = []\n",
        "\n",
        "with torch.no_grad():\n",
        "    for inputs, labels in test_loader:\n",
        "        inputs, labels = inputs.to(device), labels.to(device)\n",
        "        outputs = model(inputs)\n",
        "        _, preds = torch.max(outputs, 1)\n",
        "        all_preds.extend(preds.cpu().numpy())\n",
        "        all_labels.extend(labels.cpu().numpy())\n",
        "\n",
        "# Print classification report\n",
        "print(\"\\nClassification Report:\")\n",
        "print(classification_report(all_labels, all_preds))\n",
        "\n",
        "# Create confusion matrix\n",
        "cm = confusion_matrix(all_labels, all_preds)\n",
        "plt.figure(figsize=(8, 6))\n",
        "sns.heatmap(cm, annot=True, fmt='d', cmap='Blues',\n",
        "            xticklabels=['Ham', 'Spam'],\n",
        "            yticklabels=['Ham', 'Spam'])\n",
        "plt.xlabel('Predicted')\n",
        "plt.ylabel('True')\n",
        "plt.title('Confusion Matrix')\n",
        "plt.show()"
      ],
      "metadata": {
        "colab": {
          "base_uri": "https://localhost:8080/",
          "height": 760
        },
        "id": "oWrGKUyfTMX7",
        "outputId": "a997fd1a-5bdd-43ec-c4a0-ae796d260658"
      },
      "execution_count": 45,
      "outputs": [
        {
          "output_type": "stream",
          "name": "stdout",
          "text": [
            "\n",
            "Classification Report:\n",
            "              precision    recall  f1-score   support\n",
            "\n",
            "           0       0.99      0.98      0.99      3309\n",
            "           1       0.98      0.99      0.99      3435\n",
            "\n",
            "    accuracy                           0.99      6744\n",
            "   macro avg       0.99      0.99      0.99      6744\n",
            "weighted avg       0.99      0.99      0.99      6744\n",
            "\n"
          ]
        },
        {
          "output_type": "display_data",
          "data": {
            "text/plain": [
              "<Figure size 800x600 with 2 Axes>"
            ],
            "image/png": "[encoded data removed]"
          },
          "metadata": {}
        }
      ]
    },
    {
      "cell_type": "code",
      "source": [
        "# 20. Save the model\n",
        "torch.save({\n",
        "    'model_state_dict': model.state_dict(),\n",
        "    'optimizer_state_dict': optimizer.state_dict(),\n",
        "    'tfidf_vectorizer': tfidf_vectorizer,\n",
        "    'scaler': scaler,\n",
        "}, 'spam_detection_mlp.pt')\n",
        "print(\"Model saved to 'spam_detection_mlp.pt'\")"
      ],
      "metadata": {
        "colab": {
          "base_uri": "https://localhost:8080/"
        },
        "id": "teBsYK7fTPI2",
        "outputId": "e64ce885-6cb9-4f31-9fb6-3eafeaa44413"
      },
      "execution_count": 46,
      "outputs": [
        {
          "output_type": "stream",
          "name": "stdout",
          "text": [
            "Model saved to 'spam_detection_mlp.pt'\n"
          ]
        }
      ]
    },
    {
      "cell_type": "code",
      "source": [
        "# 21. Function to predict on new emails\n",
        "def predict_spam_mlp(emails, model_path='spam_detection_mlp.pt'):\n",
        "    # Load the model and preprocessing components\n",
        "    checkpoint = torch.load(model_path, weights_only=False)\n",
        "\n",
        "    # Get the vectorizer and scaler\n",
        "    vectorizer = checkpoint['tfidf_vectorizer']\n",
        "    scaler = checkpoint['scaler']\n",
        "\n",
        "    # Recreate the model\n",
        "    input_dim = len(vectorizer.get_feature_names_out())\n",
        "    model = SpamMLP(input_dim=input_dim)\n",
        "    model.load_state_dict(checkpoint['model_state_dict'])\n",
        "    model.eval()\n",
        "\n",
        "    # Preprocess emails\n",
        "    processed_emails = [preprocess_email(email) for email in emails]\n",
        "\n",
        "    # Transform to TF-IDF\n",
        "    X = vectorizer.transform(processed_emails)\n",
        "    X_scaled = scaler.transform(X)\n",
        "    X_tensor = torch.FloatTensor(X_scaled.toarray())\n",
        "\n",
        "    # Make predictions\n",
        "    with torch.no_grad():\n",
        "        outputs = model(X_tensor)\n",
        "        probabilities = torch.nn.functional.softmax(outputs, dim=1)\n",
        "        predictions = torch.argmax(probabilities, dim=1)\n",
        "\n",
        "    # Prepare results\n",
        "    results = []\n",
        "    for i, email in enumerate(emails):\n",
        "        label = \"SPAM\" if predictions[i].item() == 1 else \"HAM\"\n",
        "        confidence = probabilities[i][predictions[i]].item()\n",
        "        results.append({\n",
        "            \"email\": email[:100] + \"...\" if len(email) > 100 else email,\n",
        "            \"prediction\": label,\n",
        "            \"confidence\": f\"{confidence:.4f}\"\n",
        "        })\n",
        "\n",
        "    return pd.DataFrame(results)"
      ],
      "metadata": {
        "id": "TOKXa0-kTUje"
      },
      "execution_count": 49,
      "outputs": []
    },
    {
      "cell_type": "code",
      "execution_count": 50,
      "metadata": {
        "colab": {
          "base_uri": "https://localhost:8080/"
        },
        "id": "Py6uCqk5SPWe",
        "outputId": "8ec494da-1c6c-4c67-a551-ac875624737c"
      },
      "outputs": [
        {
          "output_type": "stream",
          "name": "stdout",
          "text": [
            "\n",
            "Predictions on new emails:\n",
            "                                               email prediction confidence\n",
            "0  Hello, just checking in about the meeting tomo...        HAM     1.0000\n",
            "1  CONGRATULATIONS! You've WON $10,000,000.00 in ...       SPAM     1.0000\n",
            "2  Please find attached the quarterly report for ...        HAM     1.0000\n",
            "3  URGENT: Your account has been compromised. Cli...       SPAM     1.0000\n"
          ]
        }
      ],
      "source": [
        "\n",
        "# 22. Test with example emails\n",
        "example_emails = [\n",
        "    \"Hello, just checking in about the meeting tomorrow. Let me know if you need anything from me before then.\",\n",
        "    \"CONGRATULATIONS! You've WON $10,000,000.00 in our lottery! Send your bank details now to claim your prize!\",\n",
        "    \"Please find attached the quarterly report for your review. Let me know if you have any questions.\",\n",
        "    \"URGENT: Your account has been compromised. Click here immediately to verify your details and secure your account.\"\n",
        "]\n",
        "\n",
        "prediction_df = predict_spam_mlp(example_emails)\n",
        "print(\"\\nPredictions on new emails:\")\n",
        "print(prediction_df)"
      ]
    }
  ]
}