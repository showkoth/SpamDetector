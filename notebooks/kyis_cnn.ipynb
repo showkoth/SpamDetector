{
  "nbformat": 4,
  "nbformat_minor": 0,
  "metadata": {
    "colab": {
      "provenance": []
    },
    "kernelspec": {
      "name": "python3",
      "display_name": "Python 3"
    },
    "language_info": {
      "name": "python"
    },
    "widgets": {
      "application/vnd.jupyter.widget-state+json": {
        "a895e544587e4ac0a008ad7ac8f34666": {
          "model_module": "@jupyter-widgets/controls",
          "model_name": "HBoxModel",
          "model_module_version": "1.5.0",
          "state": {
            "_dom_classes": [],
            "_model_module": "@jupyter-widgets/controls",
            "_model_module_version": "1.5.0",
            "_model_name": "HBoxModel",
            "_view_count": null,
            "_view_module": "@jupyter-widgets/controls",
            "_view_module_version": "1.5.0",
            "_view_name": "HBoxView",
            "box_style": "",
            "children": [
              "IPY_MODEL_43e7a33899c845c18e24c57364c21960",
              "IPY_MODEL_aabdd76448474a9a982be7702e4bb79a",
              "IPY_MODEL_95e4ca12b7374978ba72a8d8ca503c74"
            ],
            "layout": "IPY_MODEL_affa1d0aa55a4a45a74608868d511524"
          }
        },
        "43e7a33899c845c18e24c57364c21960": {
          "model_module": "@jupyter-widgets/controls",
          "model_name": "HTMLModel",
          "model_module_version": "1.5.0",
          "state": {
            "_dom_classes": [],
            "_model_module": "@jupyter-widgets/controls",
            "_model_module_version": "1.5.0",
            "_model_name": "HTMLModel",
            "_view_count": null,
            "_view_module": "@jupyter-widgets/controls",
            "_view_module_version": "1.5.0",
            "_view_name": "HTMLView",
            "description": "",
            "description_tooltip": null,
            "layout": "IPY_MODEL_5c2c0408450046e483225a6eded625d0",
            "placeholder": "​",
            "style": "IPY_MODEL_cb1a38f2fa2f403da9025ac7c5a35f8d",
            "value": "100%"
          }
        },
        "aabdd76448474a9a982be7702e4bb79a": {
          "model_module": "@jupyter-widgets/controls",
          "model_name": "FloatProgressModel",
          "model_module_version": "1.5.0",
          "state": {
            "_dom_classes": [],
            "_model_module": "@jupyter-widgets/controls",
            "_model_module_version": "1.5.0",
            "_model_name": "FloatProgressModel",
            "_view_count": null,
            "_view_module": "@jupyter-widgets/controls",
            "_view_module_version": "1.5.0",
            "_view_name": "ProgressView",
            "bar_style": "success",
            "description": "",
            "description_tooltip": null,
            "layout": "IPY_MODEL_2bf33893378b4cfa93b794fd7f20cbd7",
            "max": 10,
            "min": 0,
            "orientation": "horizontal",
            "style": "IPY_MODEL_b4016aaef57d466391196e5458a7d52a",
            "value": 10
          }
        },
        "95e4ca12b7374978ba72a8d8ca503c74": {
          "model_module": "@jupyter-widgets/controls",
          "model_name": "HTMLModel",
          "model_module_version": "1.5.0",
          "state": {
            "_dom_classes": [],
            "_model_module": "@jupyter-widgets/controls",
            "_model_module_version": "1.5.0",
            "_model_name": "HTMLModel",
            "_view_count": null,
            "_view_module": "@jupyter-widgets/controls",
            "_view_module_version": "1.5.0",
            "_view_name": "HTMLView",
            "description": "",
            "description_tooltip": null,
            "layout": "IPY_MODEL_7460b878bf1d4016a8386326feae50a8",
            "placeholder": "​",
            "style": "IPY_MODEL_6dfc30fd16e94f4f8c61aa87c5325889",
            "value": " 10/10 [30:23&lt;00:00, 181.48s/it]"
          }
        },
        "affa1d0aa55a4a45a74608868d511524": {
          "model_module": "@jupyter-widgets/base",
          "model_name": "LayoutModel",
          "model_module_version": "1.2.0",
          "state": {
            "_model_module": "@jupyter-widgets/base",
            "_model_module_version": "1.2.0",
            "_model_name": "LayoutModel",
            "_view_count": null,
            "_view_module": "@jupyter-widgets/base",
            "_view_module_version": "1.2.0",
            "_view_name": "LayoutView",
            "align_content": null,
            "align_items": null,
            "align_self": null,
            "border": null,
            "bottom": null,
            "display": null,
            "flex": null,
            "flex_flow": null,
            "grid_area": null,
            "grid_auto_columns": null,
            "grid_auto_flow": null,
            "grid_auto_rows": null,
            "grid_column": null,
            "grid_gap": null,
            "grid_row": null,
            "grid_template_areas": null,
            "grid_template_columns": null,
            "grid_template_rows": null,
            "height": null,
            "justify_content": null,
            "justify_items": null,
            "left": null,
            "margin": null,
            "max_height": null,
            "max_width": null,
            "min_height": null,
            "min_width": null,
            "object_fit": null,
            "object_position": null,
            "order": null,
            "overflow": null,
            "overflow_x": null,
            "overflow_y": null,
            "padding": null,
            "right": null,
            "top": null,
            "visibility": null,
            "width": null
          }
        },
        "5c2c0408450046e483225a6eded625d0": {
          "model_module": "@jupyter-widgets/base",
          "model_name": "LayoutModel",
          "model_module_version": "1.2.0",
          "state": {
            "_model_module": "@jupyter-widgets/base",
            "_model_module_version": "1.2.0",
            "_model_name": "LayoutModel",
            "_view_count": null,
            "_view_module": "@jupyter-widgets/base",
            "_view_module_version": "1.2.0",
            "_view_name": "LayoutView",
            "align_content": null,
            "align_items": null,
            "align_self": null,
            "border": null,
            "bottom": null,
            "display": null,
            "flex": null,
            "flex_flow": null,
            "grid_area": null,
            "grid_auto_columns": null,
            "grid_auto_flow": null,
            "grid_auto_rows": null,
            "grid_column": null,
            "grid_gap": null,
            "grid_row": null,
            "grid_template_areas": null,
            "grid_template_columns": null,
            "grid_template_rows": null,
            "height": null,
            "justify_content": null,
            "justify_items": null,
            "left": null,
            "margin": null,
            "max_height": null,
            "max_width": null,
            "min_height": null,
            "min_width": null,
            "object_fit": null,
            "object_position": null,
            "order": null,
            "overflow": null,
            "overflow_x": null,
            "overflow_y": null,
            "padding": null,
            "right": null,
            "top": null,
            "visibility": null,
            "width": null
          }
        },
        "cb1a38f2fa2f403da9025ac7c5a35f8d": {
          "model_module": "@jupyter-widgets/controls",
          "model_name": "DescriptionStyleModel",
          "model_module_version": "1.5.0",
          "state": {
            "_model_module": "@jupyter-widgets/controls",
            "_model_module_version": "1.5.0",
            "_model_name": "DescriptionStyleModel",
            "_view_count": null,
            "_view_module": "@jupyter-widgets/base",
            "_view_module_version": "1.2.0",
            "_view_name": "StyleView",
            "description_width": ""
          }
        },
        "2bf33893378b4cfa93b794fd7f20cbd7": {
          "model_module": "@jupyter-widgets/base",
          "model_name": "LayoutModel",
          "model_module_version": "1.2.0",
          "state": {
            "_model_module": "@jupyter-widgets/base",
            "_model_module_version": "1.2.0",
            "_model_name": "LayoutModel",
            "_view_count": null,
            "_view_module": "@jupyter-widgets/base",
            "_view_module_version": "1.2.0",
            "_view_name": "LayoutView",
            "align_content": null,
            "align_items": null,
            "align_self": null,
            "border": null,
            "bottom": null,
            "display": null,
            "flex": null,
            "flex_flow": null,
            "grid_area": null,
            "grid_auto_columns": null,
            "grid_auto_flow": null,
            "grid_auto_rows": null,
            "grid_column": null,
            "grid_gap": null,
            "grid_row": null,
            "grid_template_areas": null,
            "grid_template_columns": null,
            "grid_template_rows": null,
            "height": null,
            "justify_content": null,
            "justify_items": null,
            "left": null,
            "margin": null,
            "max_height": null,
            "max_width": null,
            "min_height": null,
            "min_width": null,
            "object_fit": null,
            "object_position": null,
            "order": null,
            "overflow": null,
            "overflow_x": null,
            "overflow_y": null,
            "padding": null,
            "right": null,
            "top": null,
            "visibility": null,
            "width": null
          }
        },
        "b4016aaef57d466391196e5458a7d52a": {
          "model_module": "@jupyter-widgets/controls",
          "model_name": "ProgressStyleModel",
          "model_module_version": "1.5.0",
          "state": {
            "_model_module": "@jupyter-widgets/controls",
            "_model_module_version": "1.5.0",
            "_model_name": "ProgressStyleModel",
            "_view_count": null,
            "_view_module": "@jupyter-widgets/base",
            "_view_module_version": "1.2.0",
            "_view_name": "StyleView",
            "bar_color": null,
            "description_width": ""
          }
        },
        "7460b878bf1d4016a8386326feae50a8": {
          "model_module": "@jupyter-widgets/base",
          "model_name": "LayoutModel",
          "model_module_version": "1.2.0",
          "state": {
            "_model_module": "@jupyter-widgets/base",
            "_model_module_version": "1.2.0",
            "_model_name": "LayoutModel",
            "_view_count": null,
            "_view_module": "@jupyter-widgets/base",
            "_view_module_version": "1.2.0",
            "_view_name": "LayoutView",
            "align_content": null,
            "align_items": null,
            "align_self": null,
            "border": null,
            "bottom": null,
            "display": null,
            "flex": null,
            "flex_flow": null,
            "grid_area": null,
            "grid_auto_columns": null,
            "grid_auto_flow": null,
            "grid_auto_rows": null,
            "grid_column": null,
            "grid_gap": null,
            "grid_row": null,
            "grid_template_areas": null,
            "grid_template_columns": null,
            "grid_template_rows": null,
            "height": null,
            "justify_content": null,
            "justify_items": null,
            "left": null,
            "margin": null,
            "max_height": null,
            "max_width": null,
            "min_height": null,
            "min_width": null,
            "object_fit": null,
            "object_position": null,
            "order": null,
            "overflow": null,
            "overflow_x": null,
            "overflow_y": null,
            "padding": null,
            "right": null,
            "top": null,
            "visibility": null,
            "width": null
          }
        },
        "6dfc30fd16e94f4f8c61aa87c5325889": {
          "model_module": "@jupyter-widgets/controls",
          "model_name": "DescriptionStyleModel",
          "model_module_version": "1.5.0",
          "state": {
            "_model_module": "@jupyter-widgets/controls",
            "_model_module_version": "1.5.0",
            "_model_name": "DescriptionStyleModel",
            "_view_count": null,
            "_view_module": "@jupyter-widgets/base",
            "_view_module_version": "1.2.0",
            "_view_name": "StyleView",
            "description_width": ""
          }
        }
      }
    }
  },
  "cells": [
    {
      "cell_type": "code",
      "source": [
        "# Email Spam Detection with CNN from Scratch\n",
        "# ======================================\n",
        "# This notebook builds a spam detection model using a Convolutional Neural Network (CNN)\n",
        "# approach designed for text classification.\n",
        "\n",
        "import pandas as pd\n",
        "import numpy as np\n",
        "import matplotlib.pyplot as plt\n",
        "import seaborn as sns\n",
        "import re\n",
        "import string\n",
        "from sklearn.model_selection import train_test_split\n",
        "from sklearn.metrics import classification_report, confusion_matrix, accuracy_score\n",
        "\n",
        "# For neural network\n",
        "import torch\n",
        "import torch.nn as nn\n",
        "import torch.nn.functional as F\n",
        "import torch.optim as optim\n",
        "from torch.utils.data import DataLoader, TensorDataset\n",
        "\n",
        "# For text processing\n",
        "from collections import Counter\n",
        "from sklearn.feature_extraction.text import CountVectorizer\n",
        "\n",
        "# 1. Download and extract the dataset\n",
        "!wget -nc https://github.com/MWiechmann/enron_spam_data/raw/master/enron_spam_data.zip\n",
        "!unzip -o enron_spam_data.zip"
      ],
      "metadata": {
        "colab": {
          "base_uri": "https://localhost:8080/"
        },
        "id": "X3SWsdXoqqN5",
        "outputId": "b8363d54-1bc2-4f46-c656-bbd12b0cad13"
      },
      "execution_count": null,
      "outputs": [
        {
          "output_type": "stream",
          "name": "stdout",
          "text": [
            "File ‘enron_spam_data.zip’ already there; not retrieving.\n",
            "\n",
            "Archive:  enron_spam_data.zip\n",
            "  inflating: enron_spam_data.csv     \n"
          ]
        }
      ]
    },
    {
      "cell_type": "code",
      "source": [
        "# 2. Load the CSV file\n",
        "df = pd.read_csv('enron_spam_data.csv')"
      ],
      "metadata": {
        "id": "_pbvOpXWqs-Y"
      },
      "execution_count": null,
      "outputs": []
    },
    {
      "cell_type": "code",
      "source": [
        "# 3. Display dataset information\n",
        "print(f\"Total emails: {len(df)}\")\n",
        "print(f\"Column names: {df.columns.tolist()}\")\n",
        "\n",
        "# Print the first few rows to understand the data structure\n",
        "print(\"\\nFirst few rows of the dataset:\")\n",
        "print(df.head(2))"
      ],
      "metadata": {
        "colab": {
          "base_uri": "https://localhost:8080/"
        },
        "id": "Fk8AZE-jqu3S",
        "outputId": "efbea8d3-88d5-411e-83ac-f32e36d50745"
      },
      "execution_count": null,
      "outputs": [
        {
          "output_type": "stream",
          "name": "stdout",
          "text": [
            "Total emails: 33716\n",
            "Column names: ['Message ID', 'Subject', 'Message', 'Spam/Ham', 'Date']\n",
            "\n",
            "First few rows of the dataset:\n",
            "   Message ID                       Subject  \\\n",
            "0           0  christmas tree farm pictures   \n",
            "1           1      vastar resources , inc .   \n",
            "\n",
            "                                             Message Spam/Ham        Date  \n",
            "0                                                NaN      ham  1999-12-10  \n",
            "1  gary , production from the high island larger ...      ham  1999-12-13  \n"
          ]
        }
      ]
    },
    {
      "cell_type": "code",
      "source": [
        "# 4. Check for label column and convert to binary\n",
        "if 'Spam/Ham' in df.columns:\n",
        "    # Convert Spam/Ham labels to binary (1 for spam, 0 for ham)\n",
        "    df['label'] = df['Spam/Ham'].apply(lambda x: 1 if x.lower() == 'spam' else 0)\n",
        "else:\n",
        "    # Look for other potential label columns\n",
        "    potential_label_cols = [col for col in df.columns if any(keyword in col.lower() for keyword in ['spam', 'ham', 'label', 'class'])]\n",
        "    if potential_label_cols:\n",
        "        print(f\"Potential label columns found: {potential_label_cols}\")\n",
        "        # Use the first potential column\n",
        "        df['label'] = df[potential_label_cols[0]].apply(lambda x: 1 if str(x).lower() == 'spam' else 0)\n",
        "    else:\n",
        "        raise ValueError(\"Couldn't identify label column in the dataset\")"
      ],
      "metadata": {
        "id": "WFayig43qxEQ"
      },
      "execution_count": null,
      "outputs": []
    },
    {
      "cell_type": "code",
      "source": [
        "# 5. Combine Subject and Message for better feature representation\n",
        "df['text'] = \"Subject: \" + df['Subject'].fillna('') + \" \" + df['Message'].fillna('')\n",
        "\n",
        "# Print dataset distribution\n",
        "print(f\"Spam emails: {sum(df['label'])}\")\n",
        "print(f\"Ham emails: {len(df) - sum(df['label'])}\")\n",
        "print(f\"Spam ratio: {sum(df['label'])/len(df):.2f}\")\n",
        "\n",
        "# Check if text column was correctly assigned\n",
        "print(\"\\nSample text column entries:\")\n",
        "print(df['text'].head(2).tolist())\n",
        "\n",
        "# Display sample emails\n",
        "print(\"\\nSample SPAM email:\")\n",
        "spam_sample = df[df['label'] == 1]['text'].iloc[0]\n",
        "print(spam_sample[:500] + \"...\" if len(str(spam_sample)) > 500 else spam_sample)\n",
        "\n",
        "print(\"\\nSample HAM email:\")\n",
        "ham_sample = df[df['label'] == 0]['text'].iloc[0]\n",
        "print(ham_sample[:500] + \"...\" if len(str(ham_sample)) > 500 else ham_sample)\n"
      ],
      "metadata": {
        "colab": {
          "base_uri": "https://localhost:8080/"
        },
        "id": "rm6wKrJuqzRY",
        "outputId": "862cafc6-afde-427c-c063-f6abea60face"
      },
      "execution_count": null,
      "outputs": [
        {
          "output_type": "stream",
          "name": "stdout",
          "text": [
            "Spam emails: 17171\n",
            "Ham emails: 16545\n",
            "Spam ratio: 0.51\n",
            "\n",
            "Sample text column entries:\n",
            "['Subject: christmas tree farm pictures ', 'Subject: vastar resources , inc . gary , production from the high island larger block a - 1 # 2 commenced on\\nsaturday at 2 : 00 p . m . at about 6 , 500 gross . carlos expects between 9 , 500 and\\n10 , 000 gross for tomorrow . vastar owns 68 % of the gross production .\\ngeorge x 3 - 6992\\n- - - - - - - - - - - - - - - - - - - - - - forwarded by george weissman / hou / ect on 12 / 13 / 99 10 : 16\\nam - - - - - - - - - - - - - - - - - - - - - - - - - - -\\ndaren j farmer\\n12 / 10 / 99 10 : 38 am\\nto : carlos j rodriguez / hou / ect @ ect\\ncc : george weissman / hou / ect @ ect , melissa graves / hou / ect @ ect\\nsubject : vastar resources , inc .\\ncarlos ,\\nplease call linda and get everything set up .\\ni \\' m going to estimate 4 , 500 coming up tomorrow , with a 2 , 000 increase each\\nfollowing day based on my conversations with bill fischer at bmar .\\nd .\\n- - - - - - - - - - - - - - - - - - - - - - forwarded by daren j farmer / hou / ect on 12 / 10 / 99 10 : 34\\nam - - - - - - - - - - - - - - - - - - - - - - - - - - -\\nenron north america corp .\\nfrom : george weissman 12 / 10 / 99 10 : 00 am\\nto : daren j farmer / hou / ect @ ect\\ncc : gary bryan / hou / ect @ ect , melissa graves / hou / ect @ ect\\nsubject : vastar resources , inc .\\ndarren ,\\nthe attached appears to be a nomination from vastar resources , inc . for the\\nhigh island larger block a - 1 # 2 ( previously , erroneously referred to as the\\n# 1 well ) . vastar now expects the well to commence production sometime\\ntomorrow . i told linda harris that we \\' d get her a telephone number in gas\\ncontrol so she can provide notification of the turn - on tomorrow . linda \\' s\\nnumbers , for the record , are 281 . 584 . 3359 voice and 713 . 312 . 1689 fax .\\nwould you please see that someone contacts linda and advises her how to\\nsubmit future nominations via e - mail , fax or voice ? thanks .\\ngeorge x 3 - 6992\\n- - - - - - - - - - - - - - - - - - - - - - forwarded by george weissman / hou / ect on 12 / 10 / 99 09 : 44\\nam - - - - - - - - - - - - - - - - - - - - - - - - - - -\\n\" linda harris \" on 12 / 10 / 99 09 : 38 : 43 am\\nto : george weissman / hou / ect @ ect\\ncc :\\nsubject : hi a - 1 # 2\\neffective 12 - 11 - 99\\n| - - - - - - - - + - - - - - - - - - - + - - - - - - - - - - - |\\n| | | |\\n| mscf / d | min ftp | time |\\n| | | |\\n| - - - - - - - - + - - - - - - - - - - + - - - - - - - - - - - |\\n| | | |\\n| 4 , 500 | 9 , 925 | 24 hours |\\n| | | |\\n| - - - - - - - - + - - - - - - - - - - + - - - - - - - - - - - |\\n| | | |\\n| 6 , 000 | 9 , 908 | 24 hours |\\n| | | |\\n| - - - - - - - - + - - - - - - - - - - + - - - - - - - - - - - |\\n| | | |\\n| 8 , 000 | 9 , 878 | 24 hours |\\n| | | |\\n| - - - - - - - - + - - - - - - - - - - + - - - - - - - - - - - |\\n| | | |\\n| 10 , 000 | 9 , 840 | 24 hours |\\n| | | |\\n| - - - - - - - - + - - - - - - - - - - + - - - - - - - - - - - |\\n| | | |\\n| 12 , 000 | 9 , 793 | 24 hours |\\n| | | |\\n| - - - - - - - - + - - - - - - - - - - + - - - - - - - - - - - |\\n| | | |\\n| 14 , 000 | 9 , 738 | 24 hours |\\n| | | |\\n| - - - - - - - - + - - - - - - - - - - + - - - - - - - - - - - |\\n| | | |\\n| 16 , 000 | 9 , 674 | 24 hours |\\n| | | |\\n| - - - - - - - - + - - - - - - - - - - + - - - - - - - - - - - |\\n| | | |\\n| 18 , 000 | 9 , 602 | 24 hours |\\n| | | |\\n| - - - - - - - - + - - - - - - - - - - + - - - - - - - - - - - |\\n| | | |\\n| 20 , 000 | 9 , 521 | 24 hours |\\n| | | |\\n| - - - - - - - - + - - - - - - - - - - + - - - - - - - - - - - |\\n| | | |\\n| 22 , 000 | 9 , 431 | 24 hours |\\n| | | |\\n| - - - - - - - - + - - - - - - - - - - + - - - - - - - - - - - |\\n| | | |\\n| 24 , 000 | 9 , 332 | 24 hours |\\n| | | |\\n| - - - - - - - - + - - - - - - - - - - + - - - - - - - - - - - |\\n| | | |\\n| 26 , 000 | 9 , 224 | 24 hours |\\n| | | |\\n| - - - - - - - - + - - - - - - - - - - + - - - - - - - - - - - |\\n| | | |\\n| 28 , 000 | 9 , 108 | 24 hours |\\n| | | |\\n| - - - - - - - - + - - - - - - - - - - + - - - - - - - - - - - |\\n| | | |\\n| 30 , 000 | 8 , 982 | 24 hours |\\n| | | |\\n| - - - - - - - - + - - - - - - - - - - + - - - - - - - - - - - |\\n| | | |\\n| 32 , 000 | 8 , 847 | 24 hours |\\n| | | |\\n| - - - - - - - - + - - - - - - - - - - + - - - - - - - - - - - |\\n| | | |\\n| 34 , 000 | 8 , 703 | 24 hours |\\n| | | |\\n| - - - - - - - - + - - - - - - - - - - + - - - - - - - - - - - |\\n| | | |\\n| 36 , 000 | 8 , 549 | 24 hours |\\n| | | |\\n| - - - - - - - - + - - - - - - - - - - + - - - - - - - - - - - |']\n",
            "\n",
            "Sample SPAM email:\n",
            "Subject: dobmeos with hgh my energy level has gone up ! stukm introducing\n",
            "doctor - formulated\n",
            "hgh\n",
            "human growth hormone - also called hgh\n",
            "is referred to in medical science as the master hormone . it is very plentiful\n",
            "when we are young , but near the age of twenty - one our bodies begin to produce\n",
            "less of it . by the time we are forty nearly everyone is deficient in hgh ,\n",
            "and at eighty our production has normally diminished at least 90 - 95 % .\n",
            "advantages of hgh :\n",
            "- increased muscle strength\n",
            "- los...\n",
            "\n",
            "Sample HAM email:\n",
            "Subject: christmas tree farm pictures \n"
          ]
        }
      ]
    },
    {
      "cell_type": "code",
      "source": [
        "# 6. Text Preprocessing\n",
        "def clean_text(text):\n",
        "    \"\"\"\n",
        "    Clean the text by removing punctuation, numbers, extra spaces\n",
        "    and converting to lowercase\n",
        "    \"\"\"\n",
        "    if pd.isna(text):\n",
        "        return \"\"\n",
        "\n",
        "    # Convert to string\n",
        "    text = str(text).lower()\n",
        "\n",
        "    # Remove punctuation and numbers\n",
        "    text = re.sub(f'[{string.punctuation}0-9]', ' ', text)\n",
        "\n",
        "    # Remove extra spaces\n",
        "    text = re.sub(r'\\s+', ' ', text).strip()\n",
        "\n",
        "    return text\n",
        "\n",
        "# Apply cleaning\n",
        "df['cleaned_text'] = df['text'].apply(clean_text)\n",
        "\n",
        "# Check a cleaned example\n",
        "print(\"\\nExample of cleaned text:\")\n",
        "print(df['cleaned_text'].iloc[0][:500] + \"...\" if len(df['cleaned_text'].iloc[0]) > 500 else df['cleaned_text'].iloc[0])"
      ],
      "metadata": {
        "colab": {
          "base_uri": "https://localhost:8080/"
        },
        "id": "vAwkFsbkq2a3",
        "outputId": "c4ab522d-70a8-4bf1-da2d-a88c8d6a9eba"
      },
      "execution_count": null,
      "outputs": [
        {
          "output_type": "stream",
          "name": "stdout",
          "text": [
            "\n",
            "Example of cleaned text:\n",
            "subject christmas tree farm pictures\n"
          ]
        }
      ]
    },
    {
      "cell_type": "code",
      "source": [
        "# 7. Build vocabulary from most common words\n",
        "def build_vocab(texts, max_words=10000):\n",
        "    \"\"\"Build a vocabulary of the most common words\"\"\"\n",
        "    # Flatten all words\n",
        "    all_words = ' '.join(texts).split()\n",
        "\n",
        "    # Count and get most common\n",
        "    word_counts = Counter(all_words)\n",
        "    most_common = word_counts.most_common(max_words - 2)  # -2 for <PAD> and <UNK>\n",
        "\n",
        "    # Create vocabulary with indices\n",
        "    vocab = {'<PAD>': 0, '<UNK>': 1}\n",
        "    for word, _ in most_common:\n",
        "        vocab[word] = len(vocab)\n",
        "\n",
        "    return vocab\n",
        "\n",
        "# Create vocabulary from training data only\n",
        "# First, split data to avoid data leakage\n",
        "train_df, test_df = train_test_split(df, test_size=0.2, random_state=42, stratify=df['label'])\n",
        "train_df, val_df = train_test_split(train_df, test_size=0.1, random_state=42, stratify=train_df['label'])\n",
        "\n",
        "print(f\"Training set size: {len(train_df)}\")\n",
        "print(f\"Validation set size: {len(val_df)}\")\n",
        "print(f\"Test set size: {len(test_df)}\")\n",
        "\n",
        "# Build vocabulary from training data\n",
        "VOCAB_SIZE = 10000\n",
        "MAX_LENGTH = 200  # Maximum sequence length for CNN\n",
        "\n",
        "vocab = build_vocab(train_df['cleaned_text'], max_words=VOCAB_SIZE)\n",
        "print(f\"Vocabulary size: {len(vocab)}\")\n",
        "print(\"Sample vocabulary items:\", list(vocab.items())[:10])"
      ],
      "metadata": {
        "colab": {
          "base_uri": "https://localhost:8080/"
        },
        "id": "G2BKPOmfq7Ro",
        "outputId": "e60e2349-5cc2-461a-cc48-3ad6eff1d2f1"
      },
      "execution_count": null,
      "outputs": [
        {
          "output_type": "stream",
          "name": "stdout",
          "text": [
            "Training set size: 24274\n",
            "Validation set size: 2698\n",
            "Test set size: 6744\n",
            "Vocabulary size: 10000\n",
            "Sample vocabulary items: [('<PAD>', 0), ('<UNK>', 1), ('the', 2), ('to', 3), ('and', 4), ('of', 5), ('a', 6), ('in', 7), ('for', 8), ('you', 9)]\n"
          ]
        }
      ]
    },
    {
      "cell_type": "code",
      "source": [
        "# 8. Convert text to numerical sequences\n",
        "def text_to_sequence(text, vocab, max_length):\n",
        "    \"\"\"Convert text to a padded sequence of word indices\"\"\"\n",
        "    words = text.split()\n",
        "    # Truncate or pad as needed\n",
        "    if len(words) > max_length:\n",
        "        words = words[:max_length]\n",
        "    else:\n",
        "        words.extend(['<PAD>'] * (max_length - len(words)))\n",
        "\n",
        "    # Convert to indices\n",
        "    sequence = [vocab.get(word, vocab['<UNK>']) for word in words]\n",
        "    return sequence\n",
        "\n",
        "# Convert all texts to sequences\n",
        "X_train = np.array([text_to_sequence(text, vocab, MAX_LENGTH)\n",
        "                     for text in train_df['cleaned_text']])\n",
        "X_val = np.array([text_to_sequence(text, vocab, MAX_LENGTH)\n",
        "                   for text in val_df['cleaned_text']])\n",
        "X_test = np.array([text_to_sequence(text, vocab, MAX_LENGTH)\n",
        "                    for text in test_df['cleaned_text']])\n",
        "\n",
        "y_train = train_df['label'].values\n",
        "y_val = val_df['label'].values\n",
        "y_test = test_df['label'].values\n",
        "\n",
        "print(f\"Input sequence shape: {X_train.shape}\")"
      ],
      "metadata": {
        "colab": {
          "base_uri": "https://localhost:8080/"
        },
        "id": "KmsmISwiq9yu",
        "outputId": "2e2b94db-26fd-4997-bcc6-b7e89dae9db8"
      },
      "execution_count": null,
      "outputs": [
        {
          "output_type": "stream",
          "name": "stdout",
          "text": [
            "Input sequence shape: (24274, 200)\n"
          ]
        }
      ]
    },
    {
      "cell_type": "code",
      "source": [
        "# 9. Convert to PyTorch tensors\n",
        "X_train_tensor = torch.LongTensor(X_train)\n",
        "X_val_tensor = torch.LongTensor(X_val)\n",
        "X_test_tensor = torch.LongTensor(X_test)\n",
        "\n",
        "y_train_tensor = torch.LongTensor(y_train)\n",
        "y_val_tensor = torch.LongTensor(y_val)\n",
        "y_test_tensor = torch.LongTensor(y_test)"
      ],
      "metadata": {
        "id": "KqH558csq_6_"
      },
      "execution_count": null,
      "outputs": []
    },
    {
      "cell_type": "code",
      "source": [
        "# 10. Create data loaders\n",
        "batch_size = 64\n",
        "train_dataset = TensorDataset(X_train_tensor, y_train_tensor)\n",
        "val_dataset = TensorDataset(X_val_tensor, y_val_tensor)\n",
        "test_dataset = TensorDataset(X_test_tensor, y_test_tensor)\n",
        "\n",
        "train_loader = DataLoader(train_dataset, batch_size=batch_size, shuffle=True)\n",
        "val_loader = DataLoader(val_dataset, batch_size=batch_size)\n",
        "test_loader = DataLoader(test_dataset, batch_size=batch_size)\n"
      ],
      "metadata": {
        "id": "JMSjIjGkrB_H"
      },
      "execution_count": null,
      "outputs": []
    },
    {
      "cell_type": "code",
      "source": [
        "# 11. Define the CNN model for text classification\n",
        "class TextCNN(nn.Module):\n",
        "    def __init__(self, vocab_size, embedding_dim, n_filters, filter_sizes, output_dim,\n",
        "                 dropout, pad_idx=0):\n",
        "        super().__init__()\n",
        "\n",
        "        # Embedding layer\n",
        "        self.embedding = nn.Embedding(vocab_size, embedding_dim, padding_idx=pad_idx)\n",
        "\n",
        "        # Convolutional layers with different filter sizes\n",
        "        self.convs = nn.ModuleList([\n",
        "            nn.Conv2d(in_channels=1,\n",
        "                      out_channels=n_filters,\n",
        "                      kernel_size=(fs, embedding_dim))\n",
        "            for fs in filter_sizes\n",
        "        ])\n",
        "\n",
        "        # Fully connected layer\n",
        "        self.fc = nn.Linear(len(filter_sizes) * n_filters, output_dim)\n",
        "\n",
        "        # Dropout for regularization\n",
        "        self.dropout = nn.Dropout(dropout)\n",
        "\n",
        "    def forward(self, text):\n",
        "        # text shape: [batch size, sequence length]\n",
        "\n",
        "        # Embedding layer\n",
        "        embedded = self.embedding(text)\n",
        "        # embedded shape: [batch size, sequence length, embedding dim]\n",
        "\n",
        "        # Add channel dimension for Conv2d\n",
        "        embedded = embedded.unsqueeze(1)\n",
        "        # embedded shape: [batch size, 1, sequence length, embedding dim]\n",
        "\n",
        "        # Apply convolutions\n",
        "        conved = [F.relu(conv(embedded)).squeeze(3) for conv in self.convs]\n",
        "        # conved_n shape: [batch size, n_filters, sequence length - filter_sizes[n] + 1]\n",
        "\n",
        "        # Apply max pooling\n",
        "        pooled = [F.max_pool1d(conv, conv.shape[2]).squeeze(2) for conv in conved]\n",
        "        # pooled_n shape: [batch size, n_filters]\n",
        "\n",
        "        # Concatenate outputs from different filter sizes\n",
        "        cat = self.dropout(torch.cat(pooled, dim=1))\n",
        "        # cat shape: [batch size, n_filters * len(filter_sizes)]\n",
        "\n",
        "        # Final linear layer\n",
        "        return self.fc(cat)"
      ],
      "metadata": {
        "id": "fSoyrRvxrEuA"
      },
      "execution_count": null,
      "outputs": []
    },
    {
      "cell_type": "code",
      "source": [
        "# 12. Initialize model and training parameters\n",
        "EMBEDDING_DIM = 100\n",
        "N_FILTERS = 100\n",
        "FILTER_SIZES = [3, 4, 5]\n",
        "OUTPUT_DIM = 2  # Binary classification: spam/ham\n",
        "DROPOUT = 0.5\n",
        "\n",
        "model = TextCNN(vocab_size=len(vocab),\n",
        "                embedding_dim=EMBEDDING_DIM,\n",
        "                n_filters=N_FILTERS,\n",
        "                filter_sizes=FILTER_SIZES,\n",
        "                output_dim=OUTPUT_DIM,\n",
        "                dropout=DROPOUT)\n",
        "\n",
        "print(model)\n",
        "\n",
        "# Count parameters\n",
        "def count_parameters(model):\n",
        "    return sum(p.numel() for p in model.parameters() if p.requires_grad)\n",
        "\n",
        "print(f'The model has {count_parameters(model):,} trainable parameters')"
      ],
      "metadata": {
        "colab": {
          "base_uri": "https://localhost:8080/"
        },
        "id": "I6tG_Ug2rGyx",
        "outputId": "b4042ae9-7171-469d-de1c-e7eeb0a671a3"
      },
      "execution_count": null,
      "outputs": [
        {
          "output_type": "stream",
          "name": "stdout",
          "text": [
            "TextCNN(\n",
            "  (embedding): Embedding(10000, 100, padding_idx=0)\n",
            "  (convs): ModuleList(\n",
            "    (0): Conv2d(1, 100, kernel_size=(3, 100), stride=(1, 1))\n",
            "    (1): Conv2d(1, 100, kernel_size=(4, 100), stride=(1, 1))\n",
            "    (2): Conv2d(1, 100, kernel_size=(5, 100), stride=(1, 1))\n",
            "  )\n",
            "  (fc): Linear(in_features=300, out_features=2, bias=True)\n",
            "  (dropout): Dropout(p=0.5, inplace=False)\n",
            ")\n",
            "The model has 1,120,902 trainable parameters\n"
          ]
        }
      ]
    },
    {
      "cell_type": "code",
      "source": [
        "# 13. Define loss function and optimizer\n",
        "criterion = nn.CrossEntropyLoss()\n",
        "optimizer = optim.Adam(model.parameters(), lr=0.001)"
      ],
      "metadata": {
        "id": "ivJdsstHrJYg"
      },
      "execution_count": null,
      "outputs": []
    },
    {
      "cell_type": "code",
      "source": [
        "# 14. Training function\n",
        "def train_epoch(model, dataloader, optimizer, criterion, device):\n",
        "    model.train()\n",
        "\n",
        "    epoch_loss = 0\n",
        "    epoch_acc = 0\n",
        "\n",
        "    for batch in dataloader:\n",
        "        # Get batch data\n",
        "        text, labels = batch\n",
        "        text, labels = text.to(device), labels.to(device)\n",
        "\n",
        "        # Forward pass\n",
        "        optimizer.zero_grad()\n",
        "        predictions = model(text)\n",
        "\n",
        "        # Calculate loss\n",
        "        loss = criterion(predictions, labels)\n",
        "\n",
        "        # Backward pass and update\n",
        "        loss.backward()\n",
        "        optimizer.step()\n",
        "\n",
        "        # Calculate accuracy\n",
        "        predictions = torch.argmax(predictions, dim=1)\n",
        "        correct = (predictions == labels).float().sum()\n",
        "        accuracy = correct / len(labels)\n",
        "\n",
        "        # Update epoch metrics\n",
        "        epoch_loss += loss.item()\n",
        "        epoch_acc += accuracy.item()\n",
        "\n",
        "    # Return average metrics\n",
        "    return epoch_loss / len(dataloader), epoch_acc / len(dataloader)"
      ],
      "metadata": {
        "id": "gVSjQZNwrL43"
      },
      "execution_count": null,
      "outputs": []
    },
    {
      "cell_type": "code",
      "source": [
        "# 15. Evaluation function\n",
        "def evaluate(model, dataloader, criterion, device):\n",
        "    model.eval()\n",
        "\n",
        "    epoch_loss = 0\n",
        "    epoch_acc = 0\n",
        "\n",
        "    with torch.no_grad():\n",
        "        for batch in dataloader:\n",
        "            # Get batch data\n",
        "            text, labels = batch\n",
        "            text, labels = text.to(device), labels.to(device)\n",
        "\n",
        "            # Forward pass\n",
        "            predictions = model(text)\n",
        "\n",
        "            # Calculate loss\n",
        "            loss = criterion(predictions, labels)\n",
        "\n",
        "            # Calculate accuracy\n",
        "            predictions = torch.argmax(predictions, dim=1)\n",
        "            correct = (predictions == labels).float().sum()\n",
        "            accuracy = correct / len(labels)\n",
        "\n",
        "            # Update epoch metrics\n",
        "            epoch_loss += loss.item()\n",
        "            epoch_acc += accuracy.item()\n",
        "\n",
        "    # Return average metrics\n",
        "    return epoch_loss / len(dataloader), epoch_acc / len(dataloader)"
      ],
      "metadata": {
        "id": "j6BbJ3EOrO9V"
      },
      "execution_count": null,
      "outputs": []
    },
    {
      "cell_type": "code",
      "source": [
        "# 16. Training loop\n",
        "device = torch.device('cuda' if torch.cuda.is_available() else 'cpu')\n",
        "model = model.to(device)\n",
        "print(f\"Using device: {device}\")\n",
        "\n",
        "N_EPOCHS = 10\n",
        "best_valid_acc = 0\n",
        "\n",
        "# For plotting results\n",
        "train_losses = []\n",
        "val_losses = []\n",
        "train_accs = []\n",
        "val_accs = []\n",
        "\n",
        "# Create a nice-looking progress bar\n",
        "from tqdm.notebook import tqdm\n",
        "\n",
        "print(\"Starting training...\")\n",
        "for epoch in tqdm(range(N_EPOCHS)):\n",
        "    # Train\n",
        "    train_loss, train_acc = train_epoch(model, train_loader, optimizer, criterion, device)\n",
        "    train_losses.append(train_loss)\n",
        "    train_accs.append(train_acc)\n",
        "\n",
        "    # Evaluate\n",
        "    val_loss, val_acc = evaluate(model, val_loader, criterion, device)\n",
        "    val_losses.append(val_loss)\n",
        "    val_accs.append(val_acc)\n",
        "\n",
        "    # Save best model\n",
        "    if val_acc > best_valid_acc:\n",
        "        best_valid_acc = val_acc\n",
        "        torch.save(model.state_dict(), 'best-cnn-model.pt')\n",
        "\n",
        "    print(f'Epoch: {epoch+1}')\n",
        "    print(f'\\tTrain Loss: {train_loss:.3f} | Train Acc: {train_acc*100:.2f}%')\n",
        "    print(f'\\tVal. Loss: {val_loss:.3f} | Val. Acc: {val_acc*100:.2f}%')"
      ],
      "metadata": {
        "colab": {
          "base_uri": "https://localhost:8080/",
          "height": 605,
          "referenced_widgets": [
            "a895e544587e4ac0a008ad7ac8f34666",
            "43e7a33899c845c18e24c57364c21960",
            "aabdd76448474a9a982be7702e4bb79a",
            "95e4ca12b7374978ba72a8d8ca503c74",
            "affa1d0aa55a4a45a74608868d511524",
            "5c2c0408450046e483225a6eded625d0",
            "cb1a38f2fa2f403da9025ac7c5a35f8d",
            "2bf33893378b4cfa93b794fd7f20cbd7",
            "b4016aaef57d466391196e5458a7d52a",
            "7460b878bf1d4016a8386326feae50a8",
            "6dfc30fd16e94f4f8c61aa87c5325889"
          ]
        },
        "id": "wRB8GI2BrSMA",
        "outputId": "0baf14aa-82e1-44c6-ee24-1b2427d083e9"
      },
      "execution_count": null,
      "outputs": [
        {
          "output_type": "stream",
          "name": "stdout",
          "text": [
            "Using device: cpu\n",
            "Starting training...\n"
          ]
        },
        {
          "output_type": "display_data",
          "data": {
            "text/plain": [
              "  0%|          | 0/10 [00:00<?, ?it/s]"
            ],
            "application/vnd.jupyter.widget-view+json": {
              "version_major": 2,
              "version_minor": 0,
              "model_id": "a895e544587e4ac0a008ad7ac8f34666"
            }
          },
          "metadata": {}
        },
        {
          "output_type": "stream",
          "name": "stdout",
          "text": [
            "Epoch: 1\n",
            "\tTrain Loss: 0.244 | Train Acc: 89.24%\n",
            "\tVal. Loss: 0.088 | Val. Acc: 97.09%\n",
            "Epoch: 2\n",
            "\tTrain Loss: 0.093 | Train Acc: 96.59%\n",
            "\tVal. Loss: 0.052 | Val. Acc: 97.97%\n",
            "Epoch: 3\n",
            "\tTrain Loss: 0.054 | Train Acc: 98.10%\n",
            "\tVal. Loss: 0.039 | Val. Acc: 98.58%\n",
            "Epoch: 4\n",
            "\tTrain Loss: 0.037 | Train Acc: 98.64%\n",
            "\tVal. Loss: 0.037 | Val. Acc: 98.66%\n",
            "Epoch: 5\n",
            "\tTrain Loss: 0.021 | Train Acc: 99.23%\n",
            "\tVal. Loss: 0.036 | Val. Acc: 98.84%\n",
            "Epoch: 6\n",
            "\tTrain Loss: 0.019 | Train Acc: 99.34%\n",
            "\tVal. Loss: 0.033 | Val. Acc: 98.84%\n",
            "Epoch: 7\n",
            "\tTrain Loss: 0.014 | Train Acc: 99.51%\n",
            "\tVal. Loss: 0.032 | Val. Acc: 99.09%\n",
            "Epoch: 8\n",
            "\tTrain Loss: 0.010 | Train Acc: 99.63%\n",
            "\tVal. Loss: 0.034 | Val. Acc: 99.06%\n",
            "Epoch: 9\n",
            "\tTrain Loss: 0.009 | Train Acc: 99.70%\n",
            "\tVal. Loss: 0.038 | Val. Acc: 98.91%\n",
            "Epoch: 10\n",
            "\tTrain Loss: 0.008 | Train Acc: 99.72%\n",
            "\tVal. Loss: 0.039 | Val. Acc: 98.87%\n"
          ]
        }
      ]
    },
    {
      "cell_type": "code",
      "source": [
        "# 17. Plot training and validation metrics\n",
        "plt.figure(figsize=(12, 5))\n",
        "plt.subplot(1, 2, 1)\n",
        "plt.plot(train_losses, label='Training Loss')\n",
        "plt.plot(val_losses, label='Validation Loss')\n",
        "plt.xlabel('Epochs')\n",
        "plt.ylabel('Loss')\n",
        "plt.legend()\n",
        "plt.title('Loss Curves')\n",
        "\n",
        "plt.subplot(1, 2, 2)\n",
        "plt.plot(train_accs, label='Training Accuracy')\n",
        "plt.plot(val_accs, label='Validation Accuracy')\n",
        "plt.xlabel('Epochs')\n",
        "plt.ylabel('Accuracy')\n",
        "plt.legend()\n",
        "plt.title('Accuracy Curves')\n",
        "plt.tight_layout()\n",
        "plt.show()"
      ],
      "metadata": {
        "id": "VI8heVCVrVFZ",
        "colab": {
          "base_uri": "https://localhost:8080/",
          "height": 507
        },
        "outputId": "cae243e4-ca0b-43d4-e5e6-d2bdb06ea798"
      },
      "execution_count": null,
      "outputs": [
        {
          "output_type": "display_data",
          "data": {
            "text/plain": [
              "<Figure size 1200x500 with 2 Axes>"
            ],
            "image/png": "[encoded data removed]"
          },
          "metadata": {}
        }
      ]
    },
    {
      "cell_type": "code",
      "source": [
        "# 18. Load the best model for testing\n",
        "model.load_state_dict(torch.load('best-cnn-model.pt'))"
      ],
      "metadata": {
        "id": "zRswRs1WrYTv",
        "colab": {
          "base_uri": "https://localhost:8080/"
        },
        "outputId": "60829ee6-d0d3-484f-91ed-cfc994b86c86"
      },
      "execution_count": null,
      "outputs": [
        {
          "output_type": "stream",
          "name": "stderr",
          "text": [
            "<ipython-input-35-bc0f22cbeee8>:2: FutureWarning: You are using `torch.load` with `weights_only=False` (the current default value), which uses the default pickle module implicitly. It is possible to construct malicious pickle data which will execute arbitrary code during unpickling (See https://github.com/pytorch/pytorch/blob/main/SECURITY.md#untrusted-models for more details). In a future release, the default value for `weights_only` will be flipped to `True`. This limits the functions that could be executed during unpickling. Arbitrary objects will no longer be allowed to be loaded via this mode unless they are explicitly allowlisted by the user via `torch.serialization.add_safe_globals`. We recommend you start setting `weights_only=True` for any use case where you don't have full control of the loaded file. Please open an issue on GitHub for any issues related to this experimental feature.\n",
            "  model.load_state_dict(torch.load('best-cnn-model.pt'))\n"
          ]
        },
        {
          "output_type": "execute_result",
          "data": {
            "text/plain": [
              "<All keys matched successfully>"
            ]
          },
          "metadata": {},
          "execution_count": 35
        }
      ]
    },
    {
      "cell_type": "code",
      "source": [
        "# 19. Evaluate on test set\n",
        "test_loss, test_acc = evaluate(model, test_loader, criterion, device)\n",
        "print(f'Test Loss: {test_loss:.3f} | Test Acc: {test_acc*100:.2f}%')"
      ],
      "metadata": {
        "id": "Jhw-eOO0raLv",
        "colab": {
          "base_uri": "https://localhost:8080/"
        },
        "outputId": "2cd1b93f-7c69-412a-bedd-80ca921e372b"
      },
      "execution_count": null,
      "outputs": [
        {
          "output_type": "stream",
          "name": "stdout",
          "text": [
            "Test Loss: 0.032 | Test Acc: 99.01%\n"
          ]
        }
      ]
    },
    {
      "cell_type": "code",
      "source": [
        "# 20. Generate detailed metrics\n",
        "y_pred = []\n",
        "y_true = []\n",
        "\n",
        "model.eval()\n",
        "with torch.no_grad():\n",
        "    for batch in test_loader:\n",
        "        text, labels = batch\n",
        "        text, labels = text.to(device), labels.to(device)\n",
        "\n",
        "        predictions = model(text)\n",
        "        predictions = torch.argmax(predictions, dim=1)\n",
        "\n",
        "        y_pred.extend(predictions.cpu().numpy())\n",
        "        y_true.extend(labels.cpu().numpy())\n",
        "\n",
        "# Print classification report\n",
        "print(\"\\nClassification Report:\")\n",
        "print(classification_report(y_true, y_pred))\n",
        "\n",
        "# Create confusion matrix\n",
        "cm = confusion_matrix(y_true, y_pred)\n",
        "plt.figure(figsize=(8, 6))\n",
        "sns.heatmap(cm, annot=True, fmt='d', cmap='Blues',\n",
        "            xticklabels=['Ham', 'Spam'],\n",
        "            yticklabels=['Ham', 'Spam'])\n",
        "plt.xlabel('Predicted')\n",
        "plt.ylabel('True')\n",
        "plt.title('Confusion Matrix')\n",
        "plt.show()"
      ],
      "metadata": {
        "id": "uL9tWzVerdrH",
        "colab": {
          "base_uri": "https://localhost:8080/",
          "height": 755
        },
        "outputId": "10513bb7-54b3-4ac7-a551-829458d1befb"
      },
      "execution_count": null,
      "outputs": [
        {
          "output_type": "stream",
          "name": "stdout",
          "text": [
            "\n",
            "Classification Report:\n",
            "              precision    recall  f1-score   support\n",
            "\n",
            "           0       0.99      0.99      0.99      3309\n",
            "           1       0.99      0.99      0.99      3435\n",
            "\n",
            "    accuracy                           0.99      6744\n",
            "   macro avg       0.99      0.99      0.99      6744\n",
            "weighted avg       0.99      0.99      0.99      6744\n",
            "\n"
          ]
        },
        {
          "output_type": "display_data",
          "data": {
            "text/plain": [
              "<Figure size 800x600 with 2 Axes>"
            ],
            "image/png": "[encoded data removed]"
          },
          "metadata": {}
        }
      ]
    },
    {
      "cell_type": "code",
      "source": [
        "# 21. Save the complete model including vocabulary\n",
        "model_data = {\n",
        "    'vocab': vocab,\n",
        "    'model_state_dict': model.state_dict(),\n",
        "    'model_config': {\n",
        "        'vocab_size': len(vocab),\n",
        "        'embedding_dim': EMBEDDING_DIM,\n",
        "        'n_filters': N_FILTERS,\n",
        "        'filter_sizes': FILTER_SIZES,\n",
        "        'output_dim': OUTPUT_DIM,\n",
        "        'dropout': DROPOUT\n",
        "    },\n",
        "    'max_length': MAX_LENGTH\n",
        "}\n",
        "\n",
        "torch.save(model_data, 'spam_detection_cnn.pt')\n",
        "print(\"Complete model saved to 'spam_detection_cnn.pt'\")"
      ],
      "metadata": {
        "id": "NtyTGIpkrgln",
        "colab": {
          "base_uri": "https://localhost:8080/"
        },
        "outputId": "ac16b9f5-06aa-4642-acdd-67f8cbe367fb"
      },
      "execution_count": null,
      "outputs": [
        {
          "output_type": "stream",
          "name": "stdout",
          "text": [
            "Complete model saved to 'spam_detection_cnn.pt'\n"
          ]
        }
      ]
    },
    {
      "cell_type": "code",
      "source": [
        "# 22. Function to predict on new emails\n",
        "def predict_spam_cnn(emails, model_path='spam_detection_cnn.pt'):\n",
        "    # Load the model data\n",
        "    model_data = torch.load(model_path)\n",
        "\n",
        "    # Extract components\n",
        "    vocab = model_data['vocab']\n",
        "    model_config = model_data['model_config']\n",
        "    max_length = model_data['max_length']\n",
        "\n",
        "    # Recreate the model\n",
        "    model = TextCNN(\n",
        "        vocab_size=model_config['vocab_size'],\n",
        "        embedding_dim=model_config['embedding_dim'],\n",
        "        n_filters=model_config['n_filters'],\n",
        "        filter_sizes=model_config['filter_sizes'],\n",
        "        output_dim=model_config['output_dim'],\n",
        "        dropout=model_config['dropout']\n",
        "    )\n",
        "\n",
        "    # Load saved parameters\n",
        "    model.load_state_dict(model_data['model_state_dict'])\n",
        "    model.eval()\n",
        "\n",
        "    # Process the emails\n",
        "    processed_emails = [clean_text(email) for email in emails]\n",
        "    sequences = [text_to_sequence(text, vocab, max_length) for text in processed_emails]\n",
        "\n",
        "    # Convert to tensor\n",
        "    input_tensor = torch.LongTensor(sequences)\n",
        "\n",
        "    # Make predictions\n",
        "    with torch.no_grad():\n",
        "        outputs = model(input_tensor)\n",
        "        probabilities = F.softmax(outputs, dim=1)\n",
        "        predictions = torch.argmax(probabilities, dim=1)\n",
        "\n",
        "    # Prepare results\n",
        "    results = []\n",
        "    for i, email in enumerate(emails):\n",
        "        label = \"SPAM\" if predictions[i].item() == 1 else \"HAM\"\n",
        "        confidence = probabilities[i][predictions[i]].item()\n",
        "        results.append({\n",
        "            \"email\": email[:100] + \"...\" if len(email) > 100 else email,\n",
        "            \"prediction\": label,\n",
        "            \"confidence\": f\"{confidence:.4f}\"\n",
        "        })\n",
        "\n",
        "    return pd.DataFrame(results)"
      ],
      "metadata": {
        "id": "g246fxDwrkH2"
      },
      "execution_count": null,
      "outputs": []
    },
    {
      "cell_type": "code",
      "source": [
        "# 23. Test with example emails\n",
        "example_emails = [\n",
        "    \"Hello, just checking in about the meeting tomorrow. Let me know if you need anything from me before then.\",\n",
        "    \"CONGRATULATIONS! You've WON $10,000,000.00 in our lottery! Send your bank details now to claim your prize!\",\n",
        "    \"Please find attached the quarterly report for your review. Let me know if you have any questions.\",\n",
        "    \"URGENT: Your account has been compromised. Click here immediately to verify your details and secure your account.\"\n",
        "]\n",
        "\n",
        "prediction_df = predict_spam_cnn(example_emails)\n",
        "print(\"\\nPredictions on new emails:\")\n",
        "print(prediction_df)\n"
      ],
      "metadata": {
        "id": "5m9yGetkrmlV",
        "colab": {
          "base_uri": "https://localhost:8080/"
        },
        "outputId": "8e1cd667-74f3-4d8a-850e-83941d7ff039"
      },
      "execution_count": null,
      "outputs": [
        {
          "output_type": "stream",
          "name": "stdout",
          "text": [
            "\n",
            "Predictions on new emails:\n",
            "                                               email prediction confidence\n",
            "0  Hello, just checking in about the meeting tomo...        HAM     1.0000\n",
            "1  CONGRATULATIONS! You've WON $10,000,000.00 in ...       SPAM     1.0000\n",
            "2  Please find attached the quarterly report for ...        HAM     1.0000\n",
            "3  URGENT: Your account has been compromised. Cli...       SPAM     1.0000\n"
          ]
        },
        {
          "output_type": "stream",
          "name": "stderr",
          "text": [
            "<ipython-input-39-79d4c3939eff>:4: FutureWarning: You are using `torch.load` with `weights_only=False` (the current default value), which uses the default pickle module implicitly. It is possible to construct malicious pickle data which will execute arbitrary code during unpickling (See https://github.com/pytorch/pytorch/blob/main/SECURITY.md#untrusted-models for more details). In a future release, the default value for `weights_only` will be flipped to `True`. This limits the functions that could be executed during unpickling. Arbitrary objects will no longer be allowed to be loaded via this mode unless they are explicitly allowlisted by the user via `torch.serialization.add_safe_globals`. We recommend you start setting `weights_only=True` for any use case where you don't have full control of the loaded file. Please open an issue on GitHub for any issues related to this experimental feature.\n",
            "  model_data = torch.load(model_path)\n"
          ]
        }
      ]
    },
    {
      "cell_type": "code",
      "execution_count": null,
      "metadata": {
        "id": "T-vfiXLgqiQ4",
        "colab": {
          "base_uri": "https://localhost:8080/",
          "height": 1000
        },
        "outputId": "d5087a5c-f4a9-4d26-b706-2499a44a5963"
      },
      "outputs": [
        {
          "output_type": "display_data",
          "data": {
            "text/plain": [
              "<Figure size 1500x1000 with 3 Axes>"
            ],
            "image/png": "[encoded data removed]"
          },
          "metadata": {}
        }
      ],
      "source": [
        "\n",
        "# 24. Visualize CNN filters (optional)\n",
        "def visualize_filter_activations(model, text, vocab, max_length, device='cpu'):\n",
        "    \"\"\"Visualize which n-grams activate CNN filters the most\"\"\"\n",
        "    # Process text\n",
        "    processed_text = clean_text(text)\n",
        "    sequence = text_to_sequence(processed_text, vocab, max_length)\n",
        "\n",
        "    # Convert to tensor and get embeddings\n",
        "    input_tensor = torch.LongTensor([sequence]).to(device)\n",
        "    model.eval()\n",
        "\n",
        "    with torch.no_grad():\n",
        "        # Get embedding activations\n",
        "        embedded = model.embedding(input_tensor).unsqueeze(1)\n",
        "\n",
        "        # Get convolution activations before pooling\n",
        "        activations = [F.relu(conv(embedded)).squeeze(3) for conv in model.convs]\n",
        "\n",
        "    # Display results\n",
        "    words = processed_text.split()[:max_length]\n",
        "\n",
        "    # For each filter size\n",
        "    plt.figure(figsize=(15, 10))\n",
        "    for i, (activation, filter_size) in enumerate(zip(activations, FILTER_SIZES)):\n",
        "        # Get activations for first filter of this size\n",
        "        activation = activation[0, 0].cpu().numpy()\n",
        "\n",
        "        # Plot top activating n-grams\n",
        "        plt.subplot(len(FILTER_SIZES), 1, i+1)\n",
        "        plt.plot(activation)\n",
        "        plt.title(f'Activations for filter size {filter_size}')\n",
        "\n",
        "        # Mark top 3 activations\n",
        "        top_indices = activation.argsort()[-3:]\n",
        "        for idx in top_indices:\n",
        "            if idx < len(words) - filter_size + 1:\n",
        "                ngram = ' '.join(words[idx:idx+filter_size])\n",
        "                plt.annotate(ngram, xy=(idx, activation[idx]),\n",
        "                            xytext=(idx, activation[idx]+0.1),\n",
        "                            arrowprops=dict(facecolor='black', shrink=0.05))\n",
        "\n",
        "    plt.tight_layout()\n",
        "    plt.show()\n",
        "\n",
        "# Visualize filter activations for a spam example\n",
        "spam_example = \"URGENT: Click here to claim your prize of $1,000,000! Limited time offer!\"\n",
        "visualize_filter_activations(model, spam_example, vocab, MAX_LENGTH, device)"
      ]
    }
  ]
}